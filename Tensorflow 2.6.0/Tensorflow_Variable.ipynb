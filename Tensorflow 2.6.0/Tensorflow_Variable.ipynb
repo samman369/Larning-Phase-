{
  "nbformat": 4,
  "nbformat_minor": 0,
  "metadata": {
    "colab": {
      "provenance": []
    },
    "kernelspec": {
      "name": "python3",
      "display_name": "Python 3"
    },
    "language_info": {
      "name": "python"
    }
  },
  "cells": [
    {
      "cell_type": "code",
      "execution_count": 1,
      "metadata": {
        "id": "Vr-YqlBlvf2I"
      },
      "outputs": [],
      "source": [
        "# importing library\n",
        "\n",
        "import tensorflow as tf\n",
        "import numpy as np"
      ]
    },
    {
      "cell_type": "code",
      "source": [
        "'''\n",
        "In TensorFlow, a Variable is a mutable tensor used to store parameters\n",
        "that can change during model training, such as weights in neural networks.\n",
        "Unlike constants, Variables are updated by backpropagation and\n",
        "optimized to minimize loss.\n",
        "\n",
        "After constraction the shape and datatype can change but value can be\n",
        "changed only by assign method\n",
        "\n",
        "where variable name is 0, shape is 1\n",
        "'''\n",
        "tf.Variable(1)"
      ],
      "metadata": {
        "colab": {
          "base_uri": "https://localhost:8080/"
        },
        "id": "1jZg9J9-vraD",
        "outputId": "0cf20ec0-f203-4fe2-e31b-8a09f4439861"
      },
      "execution_count": 2,
      "outputs": [
        {
          "output_type": "execute_result",
          "data": {
            "text/plain": [
              "<tf.Variable 'Variable:0' shape=() dtype=int32, numpy=1>"
            ]
          },
          "metadata": {},
          "execution_count": 2
        }
      ]
    },
    {
      "cell_type": "code",
      "source": [
        "# different Properties of Variable\n",
        "a = tf.Variable([1, 2, 3, 4])\n",
        "print(a.name)\n",
        "print(a.shape)\n",
        "print(a.dtype)\n",
        "print(a.numpy)\n",
        "print(type(a))"
      ],
      "metadata": {
        "colab": {
          "base_uri": "https://localhost:8080/"
        },
        "id": "Z6HCnwQdw6RF",
        "outputId": "a584d3ff-9686-40e9-e185-52b5c9fc7da8"
      },
      "execution_count": 3,
      "outputs": [
        {
          "output_type": "stream",
          "name": "stdout",
          "text": [
            "Variable:0\n",
            "(4,)\n",
            "<dtype: 'int32'>\n",
            "<bound method BaseResourceVariable.numpy of <tf.Variable 'Variable:0' shape=(4,) dtype=int32, numpy=array([1, 2, 3, 4], dtype=int32)>>\n",
            "<class 'tensorflow.python.ops.resource_variable_ops.ResourceVariable'>\n"
          ]
        }
      ]
    },
    {
      "cell_type": "code",
      "source": [
        "# We can create variable with different data type\n",
        "tf_a = tf.Variable([1, 2.5, 4, 6.5])\n",
        "print(tf_a)\n",
        "tf_b = tf.Variable(['1', 'a', 'b', 'd'])\n",
        "print(tf_b)\n",
        "tf_c = tf.Variable([True, False])\n",
        "print(tf_c)\n",
        "tf_d = tf.Variable([4 + 3j])\n",
        "print(tf_d)"
      ],
      "metadata": {
        "colab": {
          "base_uri": "https://localhost:8080/"
        },
        "id": "uZICiKCSxKOe",
        "outputId": "78448fd4-a07e-42d3-a051-92c420377bda"
      },
      "execution_count": 4,
      "outputs": [
        {
          "output_type": "stream",
          "name": "stdout",
          "text": [
            "<tf.Variable 'Variable:0' shape=(4,) dtype=float32, numpy=array([1. , 2.5, 4. , 6.5], dtype=float32)>\n",
            "<tf.Variable 'Variable:0' shape=(4,) dtype=string, numpy=array([b'1', b'a', b'b', b'd'], dtype=object)>\n",
            "<tf.Variable 'Variable:0' shape=(2,) dtype=bool, numpy=array([ True, False])>\n",
            "<tf.Variable 'Variable:0' shape=(1,) dtype=complex128, numpy=array([4.+3.j])>\n"
          ]
        }
      ]
    },
    {
      "cell_type": "code",
      "source": [
        "# 2d variable in tensorflow\n",
        "tf_2d = tf.Variable([[1, 2],[3, 4]], shape = (2, 2), dtype=\"float32\")\n",
        "tf_2d"
      ],
      "metadata": {
        "colab": {
          "base_uri": "https://localhost:8080/"
        },
        "id": "w2hKi0Kqxgnr",
        "outputId": "6f15f1e0-c035-4832-9b7a-c60076e98440"
      },
      "execution_count": 5,
      "outputs": [
        {
          "output_type": "execute_result",
          "data": {
            "text/plain": [
              "<tf.Variable 'Variable:0' shape=(2, 2) dtype=float32, numpy=\n",
              "array([[1., 2.],\n",
              "       [3., 4.]], dtype=float32)>"
            ]
          },
          "metadata": {},
          "execution_count": 5
        }
      ]
    },
    {
      "cell_type": "code",
      "source": [
        "# 1D variable in tensorflow\n",
        "td_1d = tf.Variable([1, 2, 3, 4], dtype=\"float32\")\n",
        "print(td_1d)"
      ],
      "metadata": {
        "colab": {
          "base_uri": "https://localhost:8080/"
        },
        "id": "ivnRjeM6xwIy",
        "outputId": "775b7213-be8b-40af-e853-d46f428150ee"
      },
      "execution_count": 6,
      "outputs": [
        {
          "output_type": "stream",
          "name": "stdout",
          "text": [
            "<tf.Variable 'Variable:0' shape=(4,) dtype=float32, numpy=array([1., 2., 3., 4.], dtype=float32)>\n"
          ]
        }
      ]
    },
    {
      "cell_type": "code",
      "source": [
        "'''\n",
        "we can reshape after constact\n",
        "But in constant we can not change any value\n",
        "after constraction\n",
        "'''\n",
        "a = tf.reshape(td_1d, (2, 2))\n",
        "print(a)"
      ],
      "metadata": {
        "colab": {
          "base_uri": "https://localhost:8080/"
        },
        "id": "wHwXVZJ4yEti",
        "outputId": "3ab77815-e56c-4417-b5d4-fdad04c30f1e"
      },
      "execution_count": 7,
      "outputs": [
        {
          "output_type": "stream",
          "name": "stdout",
          "text": [
            "tf.Tensor(\n",
            "[[1. 2.]\n",
            " [3. 4.]], shape=(2, 2), dtype=float32)\n"
          ]
        }
      ]
    },
    {
      "cell_type": "code",
      "source": [
        "# It will always show the index of highest value\n",
        "tf.argmax(a)"
      ],
      "metadata": {
        "colab": {
          "base_uri": "https://localhost:8080/"
        },
        "id": "ICqcFa4fydUc",
        "outputId": "fde403d4-8e32-44b2-ae5f-4d1c55c7ddb8"
      },
      "execution_count": 8,
      "outputs": [
        {
          "output_type": "execute_result",
          "data": {
            "text/plain": [
              "<tf.Tensor: shape=(2,), dtype=int64, numpy=array([1, 1])>"
            ]
          },
          "metadata": {},
          "execution_count": 8
        }
      ]
    },
    {
      "cell_type": "code",
      "source": [
        "a = tf.Variable([1, 2, 3, 4])\n",
        "print(a)"
      ],
      "metadata": {
        "colab": {
          "base_uri": "https://localhost:8080/"
        },
        "id": "9Bxn6UYQykBK",
        "outputId": "ea7dbe36-c9d9-4053-ba67-61cf6055a7e7"
      },
      "execution_count": 9,
      "outputs": [
        {
          "output_type": "stream",
          "name": "stdout",
          "text": [
            "<tf.Variable 'Variable:0' shape=(4,) dtype=int32, numpy=array([1, 2, 3, 4], dtype=int32)>\n"
          ]
        }
      ]
    },
    {
      "cell_type": "code",
      "source": [
        "# convert to tensor\n",
        "tf.convert_to_tensor(a)"
      ],
      "metadata": {
        "colab": {
          "base_uri": "https://localhost:8080/"
        },
        "id": "Md1Q4fFEyzx-",
        "outputId": "9cb3e0c1-eb25-47d7-a12a-95c5acd415e0"
      },
      "execution_count": 10,
      "outputs": [
        {
          "output_type": "execute_result",
          "data": {
            "text/plain": [
              "<tf.Tensor: shape=(4,), dtype=int32, numpy=array([1, 2, 3, 4], dtype=int32)>"
            ]
          },
          "metadata": {},
          "execution_count": 10
        }
      ]
    },
    {
      "cell_type": "code",
      "source": [
        "'''\n",
        "here the datatype and shape should be same\n",
        "and we change the previous Value\n",
        "'''\n",
        "a.assign([4, 5, 6, 7])\n",
        "print(a)"
      ],
      "metadata": {
        "colab": {
          "base_uri": "https://localhost:8080/"
        },
        "id": "GlsQZT9iy7yp",
        "outputId": "5e770f0f-b5ad-484c-8cd7-a3990791b3d3"
      },
      "execution_count": 11,
      "outputs": [
        {
          "output_type": "stream",
          "name": "stdout",
          "text": [
            "<tf.Variable 'Variable:0' shape=(4,) dtype=int32, numpy=array([4, 5, 6, 7], dtype=int32)>\n"
          ]
        }
      ]
    },
    {
      "cell_type": "code",
      "source": [
        "'''\n",
        "Assign variable to another memory\n",
        "It will do add operation then save this value into another memory\n",
        "'''\n",
        "a.assign_add([4, 12, 3, 7])"
      ],
      "metadata": {
        "colab": {
          "base_uri": "https://localhost:8080/"
        },
        "id": "3DSRixqXzCd5",
        "outputId": "5e3e2b35-5daf-4b33-9b2c-51a8e377acaa"
      },
      "execution_count": 12,
      "outputs": [
        {
          "output_type": "execute_result",
          "data": {
            "text/plain": [
              "<tf.Variable 'UnreadVariable' shape=(4,) dtype=int32, numpy=array([ 8, 17,  9, 14], dtype=int32)>"
            ]
          },
          "metadata": {},
          "execution_count": 12
        }
      ]
    },
    {
      "cell_type": "code",
      "source": [],
      "metadata": {
        "id": "C5AhY1sLzae5"
      },
      "execution_count": null,
      "outputs": []
    }
  ]
}