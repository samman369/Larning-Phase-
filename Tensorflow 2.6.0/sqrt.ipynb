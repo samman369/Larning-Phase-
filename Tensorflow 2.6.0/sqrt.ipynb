{
  "nbformat": 4,
  "nbformat_minor": 0,
  "metadata": {
    "colab": {
      "provenance": []
    },
    "kernelspec": {
      "name": "python3",
      "display_name": "Python 3"
    },
    "language_info": {
      "name": "python"
    }
  },
  "cells": [
    {
      "cell_type": "code",
      "execution_count": null,
      "metadata": {
        "id": "oUYYaSgxH_Xs"
      },
      "outputs": [],
      "source": [
        "'''\n",
        "tf.sqrt(): calculate element wise squere root\n",
        "of numpy array and tf tensor. It can be give sqrt of\n",
        "list, tuple, scaler\n",
        "\n",
        "It allow tf variable/constant/placeholder/sparse matrix\n",
        "with specific datatype\n",
        "'''\n",
        "import tensorflow as tf\n",
        "import numpy as np"
      ]
    },
    {
      "cell_type": "code",
      "source": [
        "a = 9.0\n",
        "tf.sqrt(a)"
      ],
      "metadata": {
        "colab": {
          "base_uri": "https://localhost:8080/"
        },
        "id": "YU_xehniPcCu",
        "outputId": "a100f3a0-f821-43f5-8ebf-6beb45f231be"
      },
      "execution_count": null,
      "outputs": [
        {
          "output_type": "execute_result",
          "data": {
            "text/plain": [
              "<tf.Tensor: shape=(), dtype=float32, numpy=3.0>"
            ]
          },
          "metadata": {},
          "execution_count": 2
        }
      ]
    },
    {
      "cell_type": "code",
      "source": [
        "# sqrt with list\n",
        "l1 = [4.0, 9.0, 16.0]\n",
        "tf.sqrt(l1)"
      ],
      "metadata": {
        "colab": {
          "base_uri": "https://localhost:8080/"
        },
        "id": "rzITYoXHPsL-",
        "outputId": "c3ac46b2-5440-45bb-df66-5479e526b00c"
      },
      "execution_count": null,
      "outputs": [
        {
          "output_type": "execute_result",
          "data": {
            "text/plain": [
              "<tf.Tensor: shape=(3,), dtype=float32, numpy=array([2., 3., 4.], dtype=float32)>"
            ]
          },
          "metadata": {},
          "execution_count": 3
        }
      ]
    },
    {
      "cell_type": "code",
      "source": [
        "# sqrt with tuple\n",
        "t1 = (4.0, 9.0, 16.0)\n",
        "tf.sqrt(t1)"
      ],
      "metadata": {
        "colab": {
          "base_uri": "https://localhost:8080/"
        },
        "id": "BTBede8ZP2RT",
        "outputId": "4357a7da-2c21-4abd-ef04-8f6099136c96"
      },
      "execution_count": null,
      "outputs": [
        {
          "output_type": "execute_result",
          "data": {
            "text/plain": [
              "<tf.Tensor: shape=(3,), dtype=float32, numpy=array([2., 3., 4.], dtype=float32)>"
            ]
          },
          "metadata": {},
          "execution_count": 4
        }
      ]
    },
    {
      "cell_type": "code",
      "source": [
        "npa1 = np.array([4, 9, 16], dtype=float)\n",
        "tf.sqrt(npa1)"
      ],
      "metadata": {
        "colab": {
          "base_uri": "https://localhost:8080/"
        },
        "id": "746bFDd1P8Yx",
        "outputId": "606e4ac6-83fc-49c8-cf13-ce899f4df266"
      },
      "execution_count": null,
      "outputs": [
        {
          "output_type": "execute_result",
          "data": {
            "text/plain": [
              "<tf.Tensor: shape=(3,), dtype=float64, numpy=array([2., 3., 4.])>"
            ]
          },
          "metadata": {},
          "execution_count": 5
        }
      ]
    },
    {
      "cell_type": "code",
      "source": [
        "npa1.dtype"
      ],
      "metadata": {
        "colab": {
          "base_uri": "https://localhost:8080/"
        },
        "id": "B2FQvVSaQWRU",
        "outputId": "1242177b-92bf-492d-fc32-4e9ee587bf46"
      },
      "execution_count": null,
      "outputs": [
        {
          "output_type": "execute_result",
          "data": {
            "text/plain": [
              "dtype('float64')"
            ]
          },
          "metadata": {},
          "execution_count": 7
        }
      ]
    },
    {
      "cell_type": "code",
      "source": [
        "y = np.ones(6).reshape(1, 3, 1, 2)*4\n",
        "tf.sqrt(y)"
      ],
      "metadata": {
        "colab": {
          "base_uri": "https://localhost:8080/"
        },
        "id": "0cbBtr6HQZaT",
        "outputId": "179ccad9-f6f4-47b2-bb94-8d3333406c71"
      },
      "execution_count": null,
      "outputs": [
        {
          "output_type": "execute_result",
          "data": {
            "text/plain": [
              "<tf.Tensor: shape=(1, 3, 1, 2), dtype=float64, numpy=\n",
              "array([[[[2., 2.]],\n",
              "\n",
              "        [[2., 2.]],\n",
              "\n",
              "        [[2., 2.]]]])>"
            ]
          },
          "metadata": {},
          "execution_count": 10
        }
      ]
    },
    {
      "cell_type": "code",
      "source": [
        "# Sqere root of tensor\n",
        "tf.sqrt(tf.convert_to_tensor(4, dtype='float'))"
      ],
      "metadata": {
        "colab": {
          "base_uri": "https://localhost:8080/"
        },
        "id": "MDHRhq_tQnOw",
        "outputId": "e07b021f-bff7-4d11-f7e1-74b2af188579"
      },
      "execution_count": null,
      "outputs": [
        {
          "output_type": "execute_result",
          "data": {
            "text/plain": [
              "<tf.Tensor: shape=(), dtype=float32, numpy=2.0>"
            ]
          },
          "metadata": {},
          "execution_count": 12
        }
      ]
    },
    {
      "cell_type": "code",
      "source": [
        "tf.sqrt(tf.convert_to_tensor([1, 2, 3, 4], dtype='float'))"
      ],
      "metadata": {
        "colab": {
          "base_uri": "https://localhost:8080/"
        },
        "id": "AHrwnRuRRand",
        "outputId": "adaa7966-a481-4b8d-bb24-785f741f605a"
      },
      "execution_count": null,
      "outputs": [
        {
          "output_type": "execute_result",
          "data": {
            "text/plain": [
              "<tf.Tensor: shape=(4,), dtype=float32, numpy=array([1.       , 1.4142135, 1.7320508, 2.       ], dtype=float32)>"
            ]
          },
          "metadata": {},
          "execution_count": 13
        }
      ]
    },
    {
      "cell_type": "code",
      "source": [
        "# squere root of TF constant tensor\n",
        "tf_ct = tf.constant([4, 9, 16], dtype='float')\n",
        "tf.sqrt(tf_ct)"
      ],
      "metadata": {
        "colab": {
          "base_uri": "https://localhost:8080/"
        },
        "id": "rdYtt9l-RnMU",
        "outputId": "0e22bf8c-2ceb-4cf8-b324-f66c117056c0"
      },
      "execution_count": null,
      "outputs": [
        {
          "output_type": "execute_result",
          "data": {
            "text/plain": [
              "<tf.Tensor: shape=(3,), dtype=float32, numpy=array([2., 3., 4.], dtype=float32)>"
            ]
          },
          "metadata": {},
          "execution_count": 17
        }
      ]
    },
    {
      "cell_type": "code",
      "source": [],
      "metadata": {
        "id": "mpneq93uT4_D"
      },
      "execution_count": null,
      "outputs": []
    }
  ]
}