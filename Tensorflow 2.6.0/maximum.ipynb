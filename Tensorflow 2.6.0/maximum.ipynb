{
  "nbformat": 4,
  "nbformat_minor": 0,
  "metadata": {
    "colab": {
      "provenance": []
    },
    "kernelspec": {
      "name": "python3",
      "display_name": "Python 3"
    },
    "language_info": {
      "name": "python"
    }
  },
  "cells": [
    {
      "cell_type": "code",
      "execution_count": 1,
      "metadata": {
        "id": "baX8zjS-VRjs"
      },
      "outputs": [],
      "source": [
        "'''\n",
        "Element wise power calculation\n",
        "It can be given power to scaler or numpy array\n",
        "It allow tf constant/variable/placeholder/sparse_matrix with specefic datatype\n",
        "\n",
        "Dont pass data into int format, it will through error\n",
        "'''\n",
        "import tensorflow as tf\n",
        "import numpy as np"
      ]
    },
    {
      "cell_type": "code",
      "source": [
        "a = 2\n",
        "b = 4\n",
        "\n",
        "tf.pow(a, b)"
      ],
      "metadata": {
        "colab": {
          "base_uri": "https://localhost:8080/"
        },
        "id": "MDM9O7JegKLn",
        "outputId": "9c931d4f-ca7e-434d-c02a-ee04368a1687"
      },
      "execution_count": 2,
      "outputs": [
        {
          "output_type": "execute_result",
          "data": {
            "text/plain": [
              "<tf.Tensor: shape=(), dtype=int32, numpy=16>"
            ]
          },
          "metadata": {},
          "execution_count": 2
        }
      ]
    },
    {
      "cell_type": "code",
      "source": [
        "# power of numpy array\n",
        "arr = np.array([1, 2, 3, 4, 5], dtype = np.float32)\n",
        "tf.pow(arr, 2)"
      ],
      "metadata": {
        "colab": {
          "base_uri": "https://localhost:8080/"
        },
        "id": "iBQJvWE9l4hC",
        "outputId": "6e802cf4-d9cc-4add-9352-87d31da1d2c3"
      },
      "execution_count": 3,
      "outputs": [
        {
          "output_type": "execute_result",
          "data": {
            "text/plain": [
              "<tf.Tensor: shape=(5,), dtype=float32, numpy=array([ 1.,  4.,  9., 16., 25.], dtype=float32)>"
            ]
          },
          "metadata": {},
          "execution_count": 3
        }
      ]
    },
    {
      "cell_type": "code",
      "source": [
        "# we can also do element wise power enitialization\n",
        "# here shape must be same\n",
        "arr = np.array([1, 2, 3, ], dtype = np.float64)\n",
        "arr2 = np.array([2, 3, 2 ], dtype = np.float64)\n",
        "\n",
        "tf.pow(arr, arr2)"
      ],
      "metadata": {
        "colab": {
          "base_uri": "https://localhost:8080/"
        },
        "id": "dwOdfEiYmKyl",
        "outputId": "1367aaa2-1b53-40d4-ad56-1ec45f8054d6"
      },
      "execution_count": 6,
      "outputs": [
        {
          "output_type": "execute_result",
          "data": {
            "text/plain": [
              "<tf.Tensor: shape=(3,), dtype=float64, numpy=array([1., 8., 9.])>"
            ]
          },
          "metadata": {},
          "execution_count": 6
        }
      ]
    },
    {
      "cell_type": "code",
      "source": [
        "tf.pow(tf.convert_to_tensor([1, 2, 3, 4], dtype = \"float\"), 2)"
      ],
      "metadata": {
        "colab": {
          "base_uri": "https://localhost:8080/"
        },
        "id": "XVYdq0iLmmIp",
        "outputId": "a2940af9-1cfb-4c7d-ad16-06f1427307eb"
      },
      "execution_count": 7,
      "outputs": [
        {
          "output_type": "execute_result",
          "data": {
            "text/plain": [
              "<tf.Tensor: shape=(4,), dtype=float32, numpy=array([ 1.,  4.,  9., 16.], dtype=float32)>"
            ]
          },
          "metadata": {},
          "execution_count": 7
        }
      ]
    },
    {
      "cell_type": "code",
      "source": [
        "# tensorflow with constant\n",
        "tc1 = tf.constant([1, 2, 3, 4], dtype=\"float\")\n",
        "tc2 = tf.constant([1, 2, 3, 4], dtype=\"float\")\n",
        "tc3 = tf.constant([2], dtype=\"float\")\n",
        "\n",
        "a = tf.pow(tc1, 2)\n",
        "print(a)\n",
        "\n",
        "b = tf.pow(tc1, tc2)\n",
        "print(b)\n",
        "\n",
        "c = tf.pow(tc1, tc3)\n",
        "print(c)"
      ],
      "metadata": {
        "colab": {
          "base_uri": "https://localhost:8080/"
        },
        "id": "01FFYQADnOk0",
        "outputId": "1517bf5b-1279-4cf3-d439-21e08761bd82"
      },
      "execution_count": 11,
      "outputs": [
        {
          "output_type": "stream",
          "name": "stdout",
          "text": [
            "tf.Tensor([ 1.  4.  9. 16.], shape=(4,), dtype=float32)\n",
            "tf.Tensor([  1.   4.  27. 256.], shape=(4,), dtype=float32)\n",
            "tf.Tensor([ 1.  4.  9. 16.], shape=(4,), dtype=float32)\n"
          ]
        }
      ]
    },
    {
      "cell_type": "code",
      "source": [
        "# tensorflow with Variable\n",
        "tc1 = tf.Variable([1, 2, 3, 4], dtype=\"float\")\n",
        "tc2 = tf.Variable([1, 2, 3, 4], dtype=\"float\")\n",
        "tc3 = tf.Variable([2], dtype=\"float\")\n",
        "\n",
        "a = tf.pow(tc1, 2)\n",
        "print(a)\n",
        "\n",
        "b = tf.pow(tc1, tc2)\n",
        "print(b)\n",
        "\n",
        "c = tf.pow(tc1, tc3)\n",
        "print(c)"
      ],
      "metadata": {
        "colab": {
          "base_uri": "https://localhost:8080/"
        },
        "id": "tN3hKvsOn-iV",
        "outputId": "837a3e2e-c95a-4503-c5ce-a3234580e157"
      },
      "execution_count": 12,
      "outputs": [
        {
          "output_type": "stream",
          "name": "stdout",
          "text": [
            "tf.Tensor([ 1.  4.  9. 16.], shape=(4,), dtype=float32)\n",
            "tf.Tensor([  1.   4.  27. 256.], shape=(4,), dtype=float32)\n",
            "tf.Tensor([ 1.  4.  9. 16.], shape=(4,), dtype=float32)\n"
          ]
        }
      ]
    },
    {
      "cell_type": "code",
      "source": [
        "# Maximum value of scaler\n",
        "\n",
        "a = 10\n",
        "b = 20\n",
        "\n",
        "tf.maximum(a, b)"
      ],
      "metadata": {
        "colab": {
          "base_uri": "https://localhost:8080/"
        },
        "id": "5NFP7_ciolTx",
        "outputId": "17687e06-5545-4e48-cbf0-3f40ded77de4"
      },
      "execution_count": 13,
      "outputs": [
        {
          "output_type": "execute_result",
          "data": {
            "text/plain": [
              "<tf.Tensor: shape=(), dtype=int32, numpy=20>"
            ]
          },
          "metadata": {},
          "execution_count": 13
        }
      ]
    },
    {
      "cell_type": "code",
      "source": [
        "tf.maximum(a, b).numpy()"
      ],
      "metadata": {
        "colab": {
          "base_uri": "https://localhost:8080/"
        },
        "id": "h7Jx1cpKpv-e",
        "outputId": "62756df8-a808-4fe6-fd61-f4a01a1422e9"
      },
      "execution_count": 14,
      "outputs": [
        {
          "output_type": "execute_result",
          "data": {
            "text/plain": [
              "20"
            ]
          },
          "metadata": {},
          "execution_count": 14
        }
      ]
    },
    {
      "cell_type": "code",
      "source": [
        "# It will be done by elementwise\n",
        "l1 = [10, 12, 13, 20]\n",
        "l2 = [24, 8, 12, 18]\n",
        "\n",
        "tf.maximum(l1, l2)"
      ],
      "metadata": {
        "colab": {
          "base_uri": "https://localhost:8080/"
        },
        "id": "lIBurdjBp92z",
        "outputId": "f5d5eca7-148d-43be-b5a8-c6455f87b4a1"
      },
      "execution_count": 15,
      "outputs": [
        {
          "output_type": "execute_result",
          "data": {
            "text/plain": [
              "<tf.Tensor: shape=(4,), dtype=int32, numpy=array([24, 12, 13, 20], dtype=int32)>"
            ]
          },
          "metadata": {},
          "execution_count": 15
        }
      ]
    },
    {
      "cell_type": "code",
      "source": [
        "# It will be done by elementwise\n",
        "l1 = [10, 12, 13, 20]\n",
        "a = 15\n",
        "\n",
        "tf.maximum(l1, a)"
      ],
      "metadata": {
        "colab": {
          "base_uri": "https://localhost:8080/"
        },
        "id": "QpMmYXRDqZex",
        "outputId": "fe668608-58f2-487a-a5e3-44b351ab91e0"
      },
      "execution_count": 17,
      "outputs": [
        {
          "output_type": "execute_result",
          "data": {
            "text/plain": [
              "<tf.Tensor: shape=(4,), dtype=int32, numpy=array([15, 15, 15, 20], dtype=int32)>"
            ]
          },
          "metadata": {},
          "execution_count": 17
        }
      ]
    },
    {
      "cell_type": "code",
      "source": [
        "# Compare two values with two array\n",
        "\n",
        "arr1 = np.array([10, 12, 15, 17])\n",
        "arr2 = np.array([12, 10, 17, 15])\n",
        "\n",
        "arr = tf.maximum(arr1, arr2)"
      ],
      "metadata": {
        "id": "bJ4c9pBGqt4r"
      },
      "execution_count": 18,
      "outputs": []
    },
    {
      "cell_type": "code",
      "source": [
        "arr1 = np.array([1, 2, 3, 4])\n",
        "arr2 = 3\n",
        "\n",
        "tf.maximum(arr1, arr2)"
      ],
      "metadata": {
        "colab": {
          "base_uri": "https://localhost:8080/"
        },
        "id": "7drPHTMkrQ3Y",
        "outputId": "f7590e62-6d84-43d6-cc3d-4387ab0d08c4"
      },
      "execution_count": 20,
      "outputs": [
        {
          "output_type": "execute_result",
          "data": {
            "text/plain": [
              "<tf.Tensor: shape=(4,), dtype=int64, numpy=array([3, 3, 3, 4])>"
            ]
          },
          "metadata": {},
          "execution_count": 20
        }
      ]
    },
    {
      "cell_type": "code",
      "source": [
        "# Compare two value with tensorflow constant\n",
        "tf_ct1 = tf.constant([2, 2, 3, 8])\n",
        "tf_ct2 = tf.constant([12, 1, 2, 5])\n",
        "\n",
        "tf.maximum(tf_ct1, tf_ct2)"
      ],
      "metadata": {
        "colab": {
          "base_uri": "https://localhost:8080/"
        },
        "id": "PQ3RFFo5sLAV",
        "outputId": "b8625df0-928c-481f-aac1-d85218d77828"
      },
      "execution_count": 21,
      "outputs": [
        {
          "output_type": "execute_result",
          "data": {
            "text/plain": [
              "<tf.Tensor: shape=(4,), dtype=int32, numpy=array([12,  2,  3,  8], dtype=int32)>"
            ]
          },
          "metadata": {},
          "execution_count": 21
        }
      ]
    },
    {
      "cell_type": "code",
      "source": [
        "# Compare two value with tensorflow Variable\n",
        "tf_ct1 = tf.Variable([2, 2, 3, 8])\n",
        "tf_ct2 = tf.Variable([12, 1, 2, 5])\n",
        "\n",
        "tf.maximum(tf_ct1, tf_ct2)"
      ],
      "metadata": {
        "colab": {
          "base_uri": "https://localhost:8080/"
        },
        "id": "jEmgzZLRtV5H",
        "outputId": "243557f2-fb27-4a71-d495-2d1cd3140c1f"
      },
      "execution_count": 22,
      "outputs": [
        {
          "output_type": "execute_result",
          "data": {
            "text/plain": [
              "<tf.Tensor: shape=(4,), dtype=int32, numpy=array([12,  2,  3,  8], dtype=int32)>"
            ]
          },
          "metadata": {},
          "execution_count": 22
        }
      ]
    },
    {
      "cell_type": "code",
      "source": [
        "# we can also compare list with constant\n",
        "tf_ct1 = tf.Variable([2, 2, 3, 8])\n",
        "li = [12, 1, 2, 5]\n",
        "\n",
        "tf.maximum(tf_ct1, li)"
      ],
      "metadata": {
        "colab": {
          "base_uri": "https://localhost:8080/"
        },
        "id": "33H8NEgVtfWu",
        "outputId": "7316b866-d66e-4a7e-fdff-d9dda50e8589"
      },
      "execution_count": 23,
      "outputs": [
        {
          "output_type": "execute_result",
          "data": {
            "text/plain": [
              "<tf.Tensor: shape=(4,), dtype=int32, numpy=array([12,  2,  3,  8], dtype=int32)>"
            ]
          },
          "metadata": {},
          "execution_count": 23
        }
      ]
    },
    {
      "cell_type": "code",
      "source": [],
      "metadata": {
        "id": "VzeLKLSWtxxh"
      },
      "execution_count": null,
      "outputs": []
    }
  ]
}