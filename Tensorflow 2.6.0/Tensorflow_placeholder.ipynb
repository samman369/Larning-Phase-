{
  "nbformat": 4,
  "nbformat_minor": 0,
  "metadata": {
    "colab": {
      "provenance": []
    },
    "kernelspec": {
      "name": "python3",
      "display_name": "Python 3"
    },
    "language_info": {
      "name": "python"
    }
  },
  "cells": [
    {
      "cell_type": "code",
      "execution_count": 1,
      "metadata": {
        "id": "zefLjw3sztfl"
      },
      "outputs": [],
      "source": [
        "import tensorflow as tf\n",
        "import numpy as np"
      ]
    },
    {
      "cell_type": "code",
      "source": [
        "'''\n",
        "In TensorFlow 1.x, placeholders were used as empty spots in the code where data would\n",
        "be fed in later, allowing flexibility for changing inputs.\n",
        "\n",
        "They were defined with tf.placeholder and filled with data when running the model.\n",
        "In TensorFlow 2.x, placeholders were removed, making it easier to handle data\n",
        "directly with standard Python functions and datasets\n",
        "\n",
        "# It allowys us to careate our operations and build our computation graph\n",
        "without using data\n",
        "\n",
        "In TensorFlow 1.x, the code was\n",
        "tf.placeholder(dtype=tf.float32, shape=(400*400))\n",
        "'''"
      ],
      "metadata": {
        "colab": {
          "base_uri": "https://localhost:8080/",
          "height": 107
        },
        "id": "_YR09Y4AzxE2",
        "outputId": "feec384d-ad3a-46dd-b4f2-de3a56621bf0"
      },
      "execution_count": 2,
      "outputs": [
        {
          "output_type": "execute_result",
          "data": {
            "text/plain": [
              "'\\nIn TensorFlow 1.x, placeholders were used as empty spots in the code where data would\\nbe fed in later, allowing flexibility for changing inputs.\\n\\nThey were defined with tf.placeholder and filled with data when running the model. \\nIn TensorFlow 2.x, placeholders were removed, making it easier to handle data\\ndirectly with standard Python functions and datasets\\n\\n# It allowys us to careate our operations and build our computation graph\\nwithout using data\\n\\nIn TensorFlow 1.x, the code was \\ntf.placeholder(dtype=tf.float32, shape=(400*400))\\n'"
            ],
            "application/vnd.google.colaboratory.intrinsic+json": {
              "type": "string"
            }
          },
          "metadata": {},
          "execution_count": 2
        }
      ]
    },
    {
      "cell_type": "code",
      "source": [
        "'''\n",
        "With eager execution disabled, TensorFlow behaves more like it did in version 1.x,\n",
        "allowing the use of placeholders, sessions, and computational graphs. However,\n",
        "it’s generally recommended to use newer data-handling techniques in TensorFlow 2.x\n",
        "for better compatibility and easier debugging.\n",
        "'''\n",
        "tf.compat.v1.disable_eager_execution()"
      ],
      "metadata": {
        "id": "dW0H6q-q1tw3"
      },
      "execution_count": 3,
      "outputs": []
    },
    {
      "cell_type": "code",
      "source": [
        "# Create two placeholder\n",
        "a = tf.compat.v1.placeholder(dtype=tf.float32, shape=(400,400))\n",
        "print(a)\n",
        "b = tf.compat.v1.placeholder(dtype=tf.float32, shape=(400,400))\n",
        "print(b)"
      ],
      "metadata": {
        "colab": {
          "base_uri": "https://localhost:8080/"
        },
        "id": "FoCfM0ZF2Iw-",
        "outputId": "3246a856-73f0-496a-afcc-d7b8d354246d"
      },
      "execution_count": 4,
      "outputs": [
        {
          "output_type": "stream",
          "name": "stdout",
          "text": [
            "Tensor(\"Placeholder:0\", shape=(400, 400), dtype=float32)\n",
            "Tensor(\"Placeholder_1:0\", shape=(400, 400), dtype=float32)\n"
          ]
        }
      ]
    },
    {
      "cell_type": "code",
      "source": [
        "# Perform mathtatical operation with tensor flow\n",
        "c = tf.add(a, b)\n",
        "c"
      ],
      "metadata": {
        "colab": {
          "base_uri": "https://localhost:8080/"
        },
        "id": "RRJvO2i82VGf",
        "outputId": "fca53ee7-43cb-4a26-8a99-a9b38f2781e1"
      },
      "execution_count": 5,
      "outputs": [
        {
          "output_type": "execute_result",
          "data": {
            "text/plain": [
              "<tf.Tensor 'Add:0' shape=(400, 400) dtype=float32>"
            ]
          },
          "metadata": {},
          "execution_count": 5
        }
      ]
    },
    {
      "cell_type": "code",
      "source": [
        "# create ones array with shape 400*400\n",
        "ones_array = np.ones((400,400), np.float32)\n",
        "ones_array"
      ],
      "metadata": {
        "colab": {
          "base_uri": "https://localhost:8080/"
        },
        "id": "i3jmq2wB2eCK",
        "outputId": "c949eb22-8a97-410d-926e-475514e7f3d5"
      },
      "execution_count": 6,
      "outputs": [
        {
          "output_type": "execute_result",
          "data": {
            "text/plain": [
              "array([[1., 1., 1., ..., 1., 1., 1.],\n",
              "       [1., 1., 1., ..., 1., 1., 1.],\n",
              "       [1., 1., 1., ..., 1., 1., 1.],\n",
              "       ...,\n",
              "       [1., 1., 1., ..., 1., 1., 1.],\n",
              "       [1., 1., 1., ..., 1., 1., 1.],\n",
              "       [1., 1., 1., ..., 1., 1., 1.]], dtype=float32)"
            ]
          },
          "metadata": {},
          "execution_count": 6
        }
      ]
    },
    {
      "cell_type": "code",
      "source": [
        "# Execute tensorflow placeholder using session\n",
        "\n",
        "with tf.compat.v1.Session() as sess:\n",
        "  d = sess.run(c, feed_dict={a:ones_array, b:ones_array})"
      ],
      "metadata": {
        "id": "8nnbkBJt2mvs"
      },
      "execution_count": 7,
      "outputs": []
    },
    {
      "cell_type": "code",
      "source": [
        "print(d)"
      ],
      "metadata": {
        "colab": {
          "base_uri": "https://localhost:8080/"
        },
        "id": "dY8P8tyV2ref",
        "outputId": "e5622691-7e3d-4dc7-f0cf-4dc6f74bbadb"
      },
      "execution_count": 8,
      "outputs": [
        {
          "output_type": "stream",
          "name": "stdout",
          "text": [
            "[[2. 2. 2. ... 2. 2. 2.]\n",
            " [2. 2. 2. ... 2. 2. 2.]\n",
            " [2. 2. 2. ... 2. 2. 2.]\n",
            " ...\n",
            " [2. 2. 2. ... 2. 2. 2.]\n",
            " [2. 2. 2. ... 2. 2. 2.]\n",
            " [2. 2. 2. ... 2. 2. 2.]]\n"
          ]
        }
      ]
    },
    {
      "cell_type": "code",
      "source": [],
      "metadata": {
        "id": "RNkgcug72s-g"
      },
      "execution_count": null,
      "outputs": []
    }
  ]
}