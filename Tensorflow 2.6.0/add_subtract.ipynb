{
  "nbformat": 4,
  "nbformat_minor": 0,
  "metadata": {
    "colab": {
      "provenance": []
    },
    "kernelspec": {
      "name": "python3",
      "display_name": "Python 3"
    },
    "language_info": {
      "name": "python"
    }
  },
  "cells": [
    {
      "cell_type": "code",
      "execution_count": null,
      "metadata": {
        "id": "EXsSsi36eWYp"
      },
      "outputs": [],
      "source": [
        "'''\n",
        "tf.add() do element wise addition.\n",
        "It can be add list tuple scaler\n",
        "tf.constant/Variable/placeholder do this operration\n",
        "with each other and with scaler and with list\n",
        "and tuple\n",
        "\n",
        "+ operator can be used to add two tensor\n",
        "'''\n",
        "\n",
        "import tensorflow as tf\n",
        "import numpy as np"
      ]
    },
    {
      "cell_type": "code",
      "source": [
        "# Scaler adding\n",
        "a = 10\n",
        "b = 20\n",
        "\n",
        "c = a+b\n",
        "c"
      ],
      "metadata": {
        "colab": {
          "base_uri": "https://localhost:8080/"
        },
        "id": "OigF-5IUCdLE",
        "outputId": "37039e8d-0c0c-454c-f813-ea69cef1c970"
      },
      "execution_count": null,
      "outputs": [
        {
          "output_type": "execute_result",
          "data": {
            "text/plain": [
              "30"
            ]
          },
          "metadata": {},
          "execution_count": 2
        }
      ]
    },
    {
      "cell_type": "code",
      "source": [
        "tf.add(a, b)"
      ],
      "metadata": {
        "colab": {
          "base_uri": "https://localhost:8080/"
        },
        "id": "oWSBdWFxC5C2",
        "outputId": "f0ba0eda-d9b2-4d31-8ac7-084b2229b630"
      },
      "execution_count": null,
      "outputs": [
        {
          "output_type": "execute_result",
          "data": {
            "text/plain": [
              "<tf.Tensor: shape=(), dtype=int32, numpy=30>"
            ]
          },
          "metadata": {},
          "execution_count": 3
        }
      ]
    },
    {
      "cell_type": "code",
      "source": [
        "l1 = [1, 2, 3, 4]\n",
        "l2 = [5, 6, 7, 8]\n",
        "\n",
        "tf.add(l1, l2)"
      ],
      "metadata": {
        "colab": {
          "base_uri": "https://localhost:8080/"
        },
        "id": "8DiiA-hjC-Bl",
        "outputId": "d0b0c477-8b71-4fbf-bda1-1dfcbbe39dd7"
      },
      "execution_count": null,
      "outputs": [
        {
          "output_type": "execute_result",
          "data": {
            "text/plain": [
              "<tf.Tensor: shape=(4,), dtype=int32, numpy=array([ 6,  8, 10, 12], dtype=int32)>"
            ]
          },
          "metadata": {},
          "execution_count": 4
        }
      ]
    },
    {
      "cell_type": "code",
      "source": [
        "# add function with tuple\n",
        "t1 = (1, 2, 3, 4)\n",
        "t2 = (5, 6, 7, 8)\n",
        "\n",
        "tf.add(t1, t2)"
      ],
      "metadata": {
        "colab": {
          "base_uri": "https://localhost:8080/"
        },
        "id": "qohnXi4bDP7H",
        "outputId": "afbe04af-511d-4cd3-f0bd-5c427ab7cee7"
      },
      "execution_count": null,
      "outputs": [
        {
          "output_type": "execute_result",
          "data": {
            "text/plain": [
              "<tf.Tensor: shape=(4,), dtype=int32, numpy=array([ 6,  8, 10, 12], dtype=int32)>"
            ]
          },
          "metadata": {},
          "execution_count": 5
        }
      ]
    },
    {
      "cell_type": "code",
      "source": [
        "# if there are signle variable then we can add\n",
        "# or either same kind of list or tuple\n",
        "l1 = [1, 2, 3, 4]\n",
        "a = 10\n",
        "\n",
        "tf.add(l1, a)"
      ],
      "metadata": {
        "colab": {
          "base_uri": "https://localhost:8080/"
        },
        "id": "J4NIQN_ODg_y",
        "outputId": "939467f0-f979-4b88-85ec-55987a27b8df"
      },
      "execution_count": null,
      "outputs": [
        {
          "output_type": "execute_result",
          "data": {
            "text/plain": [
              "<tf.Tensor: shape=(4,), dtype=int32, numpy=array([11, 12, 13, 14], dtype=int32)>"
            ]
          },
          "metadata": {},
          "execution_count": 6
        }
      ]
    },
    {
      "cell_type": "code",
      "source": [
        "# we can do add function with numpy array\n",
        "\n",
        "npa1 = np.array([1, 2, 3, 4, 5])\n",
        "npa2 = np.array([6, 7, 8, 9, 1])\n",
        "\n",
        "tf.add(npa1, npa2)"
      ],
      "metadata": {
        "colab": {
          "base_uri": "https://localhost:8080/"
        },
        "id": "fl-pmB44DtB0",
        "outputId": "4f84ecee-8c29-4926-f6f2-38bd38f5933b"
      },
      "execution_count": null,
      "outputs": [
        {
          "output_type": "execute_result",
          "data": {
            "text/plain": [
              "<tf.Tensor: shape=(5,), dtype=int64, numpy=array([ 7,  9, 11, 13,  6])>"
            ]
          },
          "metadata": {},
          "execution_count": 7
        }
      ]
    },
    {
      "cell_type": "code",
      "source": [
        "# numpy array with scaler value\n",
        "\n",
        "npa1 = np.array([1, 2, 3, 4, 5])\n",
        "npa2 = 10\n",
        "\n",
        "tf.add(npa1, npa2)"
      ],
      "metadata": {
        "colab": {
          "base_uri": "https://localhost:8080/"
        },
        "id": "-W6Rn3IIEgzm",
        "outputId": "b170bf96-bea6-47d4-fdf8-55f7382f5a60"
      },
      "execution_count": null,
      "outputs": [
        {
          "output_type": "execute_result",
          "data": {
            "text/plain": [
              "<tf.Tensor: shape=(5,), dtype=int64, numpy=array([11, 12, 13, 14, 15])>"
            ]
          },
          "metadata": {},
          "execution_count": 8
        }
      ]
    },
    {
      "cell_type": "code",
      "source": [
        "npa1 = np.array([1, 2, 3, 4, 5])\n",
        "npa2 = np.array([6])\n",
        "\n",
        "tf.add(npa1, npa2)"
      ],
      "metadata": {
        "colab": {
          "base_uri": "https://localhost:8080/"
        },
        "id": "zdTSz7ApE3ln",
        "outputId": "4826497d-b145-487b-b7c3-95e2aa939abb"
      },
      "execution_count": null,
      "outputs": [
        {
          "output_type": "execute_result",
          "data": {
            "text/plain": [
              "<tf.Tensor: shape=(5,), dtype=int64, numpy=array([ 7,  8,  9, 10, 11])>"
            ]
          },
          "metadata": {},
          "execution_count": 9
        }
      ]
    },
    {
      "cell_type": "code",
      "source": [
        "# add operation with constant\n",
        "tc1 = tf.constant([1, 2, 3, 4, 5])\n",
        "tc2 = tf.constant([1, 2, 3, 4, 5])\n",
        "\n",
        "tf.add(tc1, tc2)"
      ],
      "metadata": {
        "colab": {
          "base_uri": "https://localhost:8080/"
        },
        "id": "mE0nz726E64_",
        "outputId": "30636cd7-634f-4303-f686-a97d6f50ca70"
      },
      "execution_count": null,
      "outputs": [
        {
          "output_type": "execute_result",
          "data": {
            "text/plain": [
              "<tf.Tensor: shape=(5,), dtype=int32, numpy=array([ 2,  4,  6,  8, 10], dtype=int32)>"
            ]
          },
          "metadata": {},
          "execution_count": 10
        }
      ]
    },
    {
      "cell_type": "code",
      "source": [
        "# add operation with constant with singlw value\n",
        "tc1 = tf.constant([1, 2, 3, 4, 5])\n",
        "tc2 = tf.constant([1])\n",
        "\n",
        "tf.add(tc1, tc2)"
      ],
      "metadata": {
        "colab": {
          "base_uri": "https://localhost:8080/"
        },
        "id": "7Fh64b_JFacA",
        "outputId": "7db2c755-e199-4b02-acf8-59d2dcfd73bd"
      },
      "execution_count": null,
      "outputs": [
        {
          "output_type": "execute_result",
          "data": {
            "text/plain": [
              "<tf.Tensor: shape=(5,), dtype=int32, numpy=array([2, 3, 4, 5, 6], dtype=int32)>"
            ]
          },
          "metadata": {},
          "execution_count": 11
        }
      ]
    },
    {
      "cell_type": "code",
      "source": [
        "# add operation with constant\n",
        "tc1 = tf.constant([1, 2, 3, 4, 5])\n",
        "tc2 = 10\n",
        "\n",
        "tf.add(tc1, tc2)"
      ],
      "metadata": {
        "colab": {
          "base_uri": "https://localhost:8080/"
        },
        "id": "wLpTWv0MFgVr",
        "outputId": "f6202bcb-3b22-472b-edb0-3232120e72be"
      },
      "execution_count": null,
      "outputs": [
        {
          "output_type": "execute_result",
          "data": {
            "text/plain": [
              "<tf.Tensor: shape=(5,), dtype=int32, numpy=array([11, 12, 13, 14, 15], dtype=int32)>"
            ]
          },
          "metadata": {},
          "execution_count": 12
        }
      ]
    },
    {
      "cell_type": "code",
      "source": [
        "# add operation with Varriable\n",
        "tv1 = tf.Variable([1, 2, 3, 4, 5])\n",
        "tv2 = tf.Variable([1, 2, 3, 4, 5])\n",
        "\n",
        "tf.add(tv1, tv2)"
      ],
      "metadata": {
        "colab": {
          "base_uri": "https://localhost:8080/"
        },
        "id": "a3uKbfVhFnr_",
        "outputId": "d78020e7-3fd7-443e-e704-4b0db10953b7"
      },
      "execution_count": null,
      "outputs": [
        {
          "output_type": "execute_result",
          "data": {
            "text/plain": [
              "<tf.Tensor: shape=(5,), dtype=int32, numpy=array([ 2,  4,  6,  8, 10], dtype=int32)>"
            ]
          },
          "metadata": {},
          "execution_count": 13
        }
      ]
    },
    {
      "cell_type": "code",
      "source": [
        "'''\n",
        "Add two numpy array with different shape\n",
        "Here the actual value is in the shape\n",
        "compromise the max one will be the shape\n",
        "of output\n",
        "\n",
        "here the output shape is (2, 2, 3, 3)\n",
        "'''\n",
        "x = np.ones(6).reshape(1, 2, 1, 3)\n",
        "x\n",
        "\n",
        "y = np.ones(6).reshape(2, 1, 3, 1)\n",
        "y\n",
        "\n",
        "tf.add(x, y)"
      ],
      "metadata": {
        "colab": {
          "base_uri": "https://localhost:8080/"
        },
        "id": "znLPXq-xFxrz",
        "outputId": "e97c3a70-f9d2-4620-ea7b-3f3ad72c1001"
      },
      "execution_count": null,
      "outputs": [
        {
          "output_type": "execute_result",
          "data": {
            "text/plain": [
              "<tf.Tensor: shape=(2, 2, 3, 3), dtype=float64, numpy=\n",
              "array([[[[2., 2., 2.],\n",
              "         [2., 2., 2.],\n",
              "         [2., 2., 2.]],\n",
              "\n",
              "        [[2., 2., 2.],\n",
              "         [2., 2., 2.],\n",
              "         [2., 2., 2.]]],\n",
              "\n",
              "\n",
              "       [[[2., 2., 2.],\n",
              "         [2., 2., 2.],\n",
              "         [2., 2., 2.]],\n",
              "\n",
              "        [[2., 2., 2.],\n",
              "         [2., 2., 2.],\n",
              "         [2., 2., 2.]]]])>"
            ]
          },
          "metadata": {},
          "execution_count": 15
        }
      ]
    },
    {
      "cell_type": "code",
      "source": [
        "tf.add(x, y).shape.as_list()"
      ],
      "metadata": {
        "colab": {
          "base_uri": "https://localhost:8080/"
        },
        "id": "u611Ou9MG5Yf",
        "outputId": "a068d20a-3767-4d19-b286-47d4e5897bef"
      },
      "execution_count": 18,
      "outputs": [
        {
          "output_type": "execute_result",
          "data": {
            "text/plain": [
              "[2, 2, 3, 3]"
            ]
          },
          "metadata": {},
          "execution_count": 18
        }
      ]
    },
    {
      "cell_type": "code",
      "source": [
        "# Scaler substract\n",
        "a = 10\n",
        "b = 20\n",
        "\n",
        "c = a-b\n",
        "c"
      ],
      "metadata": {
        "colab": {
          "base_uri": "https://localhost:8080/"
        },
        "id": "rIajELamI3eF",
        "outputId": "d6a57109-6904-4f45-bf34-0dfdbd35b03b"
      },
      "execution_count": 19,
      "outputs": [
        {
          "output_type": "execute_result",
          "data": {
            "text/plain": [
              "-10"
            ]
          },
          "metadata": {},
          "execution_count": 19
        }
      ]
    },
    {
      "cell_type": "code",
      "source": [
        "tf.subtract(a, b)"
      ],
      "metadata": {
        "colab": {
          "base_uri": "https://localhost:8080/"
        },
        "id": "mlcaC8vlI6iz",
        "outputId": "5dca832e-873e-4e32-bfc9-11adc593d4a6"
      },
      "execution_count": 20,
      "outputs": [
        {
          "output_type": "execute_result",
          "data": {
            "text/plain": [
              "<tf.Tensor: shape=(), dtype=int32, numpy=-10>"
            ]
          },
          "metadata": {},
          "execution_count": 20
        }
      ]
    },
    {
      "cell_type": "code",
      "source": [
        "l1 = [1, 2, 3, 4]\n",
        "l2 = [5, 6, 7, 8]\n",
        "\n",
        "tf.subtract(l1, l2)"
      ],
      "metadata": {
        "colab": {
          "base_uri": "https://localhost:8080/"
        },
        "id": "LBkl9661JPow",
        "outputId": "faabb180-634b-4506-a27d-71ee78b4a857"
      },
      "execution_count": 21,
      "outputs": [
        {
          "output_type": "execute_result",
          "data": {
            "text/plain": [
              "<tf.Tensor: shape=(4,), dtype=int32, numpy=array([-4, -4, -4, -4], dtype=int32)>"
            ]
          },
          "metadata": {},
          "execution_count": 21
        }
      ]
    },
    {
      "cell_type": "code",
      "source": [
        "# subtract function with tuple\n",
        "t1 = (1, 2, 3, 4)\n",
        "t2 = (5, 6, 7, 8)\n",
        "\n",
        "tf.subtract(t1, t2)"
      ],
      "metadata": {
        "colab": {
          "base_uri": "https://localhost:8080/"
        },
        "id": "rqSczTF_JbdZ",
        "outputId": "997cd2e8-00c0-4035-af37-1afd84c4ae48"
      },
      "execution_count": 22,
      "outputs": [
        {
          "output_type": "execute_result",
          "data": {
            "text/plain": [
              "<tf.Tensor: shape=(4,), dtype=int32, numpy=array([-4, -4, -4, -4], dtype=int32)>"
            ]
          },
          "metadata": {},
          "execution_count": 22
        }
      ]
    },
    {
      "cell_type": "code",
      "source": [
        "l1 = [1, 2, 3, 4]\n",
        "a = 10\n",
        "\n",
        "tf.subtract(l1, a)"
      ],
      "metadata": {
        "colab": {
          "base_uri": "https://localhost:8080/"
        },
        "id": "2_jg7HheJkb_",
        "outputId": "d695cefa-c8d1-4568-ab86-962300251bd1"
      },
      "execution_count": 23,
      "outputs": [
        {
          "output_type": "execute_result",
          "data": {
            "text/plain": [
              "<tf.Tensor: shape=(4,), dtype=int32, numpy=array([-9, -8, -7, -6], dtype=int32)>"
            ]
          },
          "metadata": {},
          "execution_count": 23
        }
      ]
    },
    {
      "cell_type": "code",
      "source": [
        "npa1 = np.array([1, 2, 3, 4, 5])\n",
        "npa2 = np.array([6])\n",
        "\n",
        "tf.subtract(npa1, npa2)"
      ],
      "metadata": {
        "colab": {
          "base_uri": "https://localhost:8080/"
        },
        "id": "CT32c7CoJrmt",
        "outputId": "74ff0ca9-2ac1-4328-ccd1-4ddf27e1f47d"
      },
      "execution_count": 24,
      "outputs": [
        {
          "output_type": "execute_result",
          "data": {
            "text/plain": [
              "<tf.Tensor: shape=(5,), dtype=int64, numpy=array([-5, -4, -3, -2, -1])>"
            ]
          },
          "metadata": {},
          "execution_count": 24
        }
      ]
    },
    {
      "cell_type": "code",
      "source": [
        "# numpy array with scaler value\n",
        "\n",
        "npa1 = np.array([1, 2, 3, 4, 5])\n",
        "npa2 = 10\n",
        "\n",
        "tf.add(npa1, npa2)"
      ],
      "metadata": {
        "colab": {
          "base_uri": "https://localhost:8080/"
        },
        "id": "mOKNZN47Jx-I",
        "outputId": "b7afba27-d0a4-49c3-e5f6-f5f874fd9ea5"
      },
      "execution_count": 25,
      "outputs": [
        {
          "output_type": "execute_result",
          "data": {
            "text/plain": [
              "<tf.Tensor: shape=(5,), dtype=int64, numpy=array([11, 12, 13, 14, 15])>"
            ]
          },
          "metadata": {},
          "execution_count": 25
        }
      ]
    },
    {
      "cell_type": "code",
      "source": [
        "# subtract operation with constant\n",
        "tc1 = tf.constant([1, 2, 3, 4, 5])\n",
        "tc2 = tf.constant([1, 2, 3, 4, 5])\n",
        "\n",
        "tf.subtract(tc1, tc2)"
      ],
      "metadata": {
        "colab": {
          "base_uri": "https://localhost:8080/"
        },
        "id": "kVElUb3LJ30j",
        "outputId": "2de3b74d-4853-497e-e57d-b0b6f3b980af"
      },
      "execution_count": 26,
      "outputs": [
        {
          "output_type": "execute_result",
          "data": {
            "text/plain": [
              "<tf.Tensor: shape=(5,), dtype=int32, numpy=array([0, 0, 0, 0, 0], dtype=int32)>"
            ]
          },
          "metadata": {},
          "execution_count": 26
        }
      ]
    },
    {
      "cell_type": "code",
      "source": [
        "# subtract operation with constant with singlw value\n",
        "tc1 = tf.constant([1, 2, 3, 4, 5])\n",
        "tc2 = tf.constant([1])\n",
        "\n",
        "tf.subtract(tc1, tc2)"
      ],
      "metadata": {
        "colab": {
          "base_uri": "https://localhost:8080/"
        },
        "id": "8VYyll9zJ-_Q",
        "outputId": "744d94c3-94d7-47fc-9aa0-7166bda8a852"
      },
      "execution_count": 28,
      "outputs": [
        {
          "output_type": "execute_result",
          "data": {
            "text/plain": [
              "<tf.Tensor: shape=(5,), dtype=int32, numpy=array([0, 1, 2, 3, 4], dtype=int32)>"
            ]
          },
          "metadata": {},
          "execution_count": 28
        }
      ]
    },
    {
      "cell_type": "code",
      "source": [
        "# subtract operation with constant with singlw value\n",
        "tc1 = tf.constant([1, 2, 3, 4, 5])\n",
        "tc2 = 10\n",
        "\n",
        "tf.subtract(tc1, tc2)"
      ],
      "metadata": {
        "colab": {
          "base_uri": "https://localhost:8080/"
        },
        "id": "TzDJHoaCKIlB",
        "outputId": "0b0369b9-2481-4bf8-cc82-059d2384f466"
      },
      "execution_count": 30,
      "outputs": [
        {
          "output_type": "execute_result",
          "data": {
            "text/plain": [
              "<tf.Tensor: shape=(5,), dtype=int32, numpy=array([-9, -8, -7, -6, -5], dtype=int32)>"
            ]
          },
          "metadata": {},
          "execution_count": 30
        }
      ]
    },
    {
      "cell_type": "code",
      "source": [
        "# subtract operation with variable\n",
        "tc1 = tf.Variable([1, 2, 3, 4, 5])\n",
        "tc2 = tf.Variable([1, 2, 3, 4, 5])\n",
        "\n",
        "tf.subtract(tc1, tc2)"
      ],
      "metadata": {
        "colab": {
          "base_uri": "https://localhost:8080/"
        },
        "id": "FyAS_r3_KOsm",
        "outputId": "5e848da3-436b-4eee-db92-0b264a3fb051"
      },
      "execution_count": 31,
      "outputs": [
        {
          "output_type": "execute_result",
          "data": {
            "text/plain": [
              "<tf.Tensor: shape=(5,), dtype=int32, numpy=array([0, 0, 0, 0, 0], dtype=int32)>"
            ]
          },
          "metadata": {},
          "execution_count": 31
        }
      ]
    },
    {
      "cell_type": "code",
      "source": [
        "# subtract operation with variable\n",
        "tc1 = tf.Variable([1, 2, 3, 4, 5])\n",
        "tc2 = tf.Variable([1])\n",
        "\n",
        "tf.subtract(tc1, tc2)"
      ],
      "metadata": {
        "colab": {
          "base_uri": "https://localhost:8080/"
        },
        "id": "PFjZiBF_KbRR",
        "outputId": "837830f8-43c2-4a15-bda6-fe99d18339e9"
      },
      "execution_count": 32,
      "outputs": [
        {
          "output_type": "execute_result",
          "data": {
            "text/plain": [
              "<tf.Tensor: shape=(5,), dtype=int32, numpy=array([0, 1, 2, 3, 4], dtype=int32)>"
            ]
          },
          "metadata": {},
          "execution_count": 32
        }
      ]
    },
    {
      "cell_type": "code",
      "source": [
        "# subtract operation with variable\n",
        "tc1 = tf.Variable([1, 2, 3, 4, 5])\n",
        "tc2 = 10\n",
        "\n",
        "tf.subtract(tc1, tc2)"
      ],
      "metadata": {
        "colab": {
          "base_uri": "https://localhost:8080/"
        },
        "id": "DrC6xCDLKeYD",
        "outputId": "91b6e7f7-aa0d-4f33-91e0-19fdd621f111"
      },
      "execution_count": 33,
      "outputs": [
        {
          "output_type": "execute_result",
          "data": {
            "text/plain": [
              "<tf.Tensor: shape=(5,), dtype=int32, numpy=array([-9, -8, -7, -6, -5], dtype=int32)>"
            ]
          },
          "metadata": {},
          "execution_count": 33
        }
      ]
    },
    {
      "cell_type": "code",
      "source": [
        "'''\n",
        "here the output will be the same\n",
        "between the two shape size\n",
        "'''\n",
        "\n",
        "x = np.ones(6).reshape(1, 2, 1, 3)\n",
        "x\n",
        "\n",
        "y = np.ones(6).reshape(2, 1, 3, 1)\n",
        "y\n",
        "\n",
        "tf.subtract(x, y)"
      ],
      "metadata": {
        "colab": {
          "base_uri": "https://localhost:8080/"
        },
        "id": "M5FmuDdUKg3p",
        "outputId": "e406e147-0ec7-4fc4-eb99-afff04262014"
      },
      "execution_count": 34,
      "outputs": [
        {
          "output_type": "execute_result",
          "data": {
            "text/plain": [
              "<tf.Tensor: shape=(2, 2, 3, 3), dtype=float64, numpy=\n",
              "array([[[[0., 0., 0.],\n",
              "         [0., 0., 0.],\n",
              "         [0., 0., 0.]],\n",
              "\n",
              "        [[0., 0., 0.],\n",
              "         [0., 0., 0.],\n",
              "         [0., 0., 0.]]],\n",
              "\n",
              "\n",
              "       [[[0., 0., 0.],\n",
              "         [0., 0., 0.],\n",
              "         [0., 0., 0.]],\n",
              "\n",
              "        [[0., 0., 0.],\n",
              "         [0., 0., 0.],\n",
              "         [0., 0., 0.]]]])>"
            ]
          },
          "metadata": {},
          "execution_count": 34
        }
      ]
    },
    {
      "cell_type": "code",
      "source": [],
      "metadata": {
        "id": "7t5dV0kCK6_c"
      },
      "execution_count": null,
      "outputs": []
    }
  ]
}