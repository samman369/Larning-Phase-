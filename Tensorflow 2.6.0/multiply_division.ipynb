{
  "nbformat": 4,
  "nbformat_minor": 0,
  "metadata": {
    "colab": {
      "provenance": []
    },
    "kernelspec": {
      "name": "python3",
      "display_name": "Python 3"
    },
    "language_info": {
      "name": "python"
    }
  },
  "cells": [
    {
      "cell_type": "code",
      "execution_count": null,
      "metadata": {
        "id": "EXsSsi36eWYp"
      },
      "outputs": [],
      "source": [
        "'''\n",
        "tf.multiply() do element wise multiplication.\n",
        "It can be add list tuple scaler\n",
        "tf.constant/Variable/placeholder do this operration\n",
        "with each other and with scaler and with list\n",
        "and tuple\n",
        "\n",
        "* operator can be used to add two tensor\n",
        "'''\n",
        "\n",
        "import tensorflow as tf\n",
        "import numpy as np"
      ]
    },
    {
      "cell_type": "code",
      "source": [
        "# Scaler adding\n",
        "a = 10\n",
        "b = 20\n",
        "\n",
        "c = a*b\n",
        "c"
      ],
      "metadata": {
        "colab": {
          "base_uri": "https://localhost:8080/"
        },
        "id": "OigF-5IUCdLE",
        "outputId": "02ea9334-46d2-4b6d-cc9b-2185e87a3b89"
      },
      "execution_count": 35,
      "outputs": [
        {
          "output_type": "execute_result",
          "data": {
            "text/plain": [
              "200"
            ]
          },
          "metadata": {},
          "execution_count": 35
        }
      ]
    },
    {
      "cell_type": "code",
      "source": [
        "tf.multiply(a, b)"
      ],
      "metadata": {
        "colab": {
          "base_uri": "https://localhost:8080/"
        },
        "id": "oWSBdWFxC5C2",
        "outputId": "ddc08006-ec46-44a4-e48d-87f2ad5940a9"
      },
      "execution_count": 36,
      "outputs": [
        {
          "output_type": "execute_result",
          "data": {
            "text/plain": [
              "<tf.Tensor: shape=(), dtype=int32, numpy=200>"
            ]
          },
          "metadata": {},
          "execution_count": 36
        }
      ]
    },
    {
      "cell_type": "code",
      "source": [
        "l1 = [1, 2, 3, 4]\n",
        "l2 = [5, 6, 7, 8]\n",
        "\n",
        "tf.multiply(l1, l2)"
      ],
      "metadata": {
        "colab": {
          "base_uri": "https://localhost:8080/"
        },
        "id": "8DiiA-hjC-Bl",
        "outputId": "12c67672-04ac-4430-80d2-48d5a4eeab9e"
      },
      "execution_count": 37,
      "outputs": [
        {
          "output_type": "execute_result",
          "data": {
            "text/plain": [
              "<tf.Tensor: shape=(4,), dtype=int32, numpy=array([ 5, 12, 21, 32], dtype=int32)>"
            ]
          },
          "metadata": {},
          "execution_count": 37
        }
      ]
    },
    {
      "cell_type": "code",
      "source": [
        "# add function with tuple\n",
        "t1 = (1, 2, 3, 4)\n",
        "t2 = (5, 6, 7, 8)\n",
        "\n",
        "tf.multiply(t1, t2)"
      ],
      "metadata": {
        "colab": {
          "base_uri": "https://localhost:8080/"
        },
        "id": "qohnXi4bDP7H",
        "outputId": "7338e902-20fa-4ea1-d99b-dec7ee4c0fc0"
      },
      "execution_count": 38,
      "outputs": [
        {
          "output_type": "execute_result",
          "data": {
            "text/plain": [
              "<tf.Tensor: shape=(4,), dtype=int32, numpy=array([ 5, 12, 21, 32], dtype=int32)>"
            ]
          },
          "metadata": {},
          "execution_count": 38
        }
      ]
    },
    {
      "cell_type": "code",
      "source": [
        "# if there are signle variable then we can multiply\n",
        "# or either same kind of list or tuple\n",
        "l1 = [1, 2, 3, 4]\n",
        "a = 10\n",
        "\n",
        "tf.multiply(l1, a)"
      ],
      "metadata": {
        "colab": {
          "base_uri": "https://localhost:8080/"
        },
        "id": "J4NIQN_ODg_y",
        "outputId": "50419077-01fe-4740-db2c-fc7b420a7f9d"
      },
      "execution_count": 39,
      "outputs": [
        {
          "output_type": "execute_result",
          "data": {
            "text/plain": [
              "<tf.Tensor: shape=(4,), dtype=int32, numpy=array([10, 20, 30, 40], dtype=int32)>"
            ]
          },
          "metadata": {},
          "execution_count": 39
        }
      ]
    },
    {
      "cell_type": "code",
      "source": [
        "# we can do multiply function with numpy array\n",
        "\n",
        "npa1 = np.array([1, 2, 3, 4, 5])\n",
        "npa2 = np.array([6, 7, 8, 9, 1])\n",
        "\n",
        "tf.multiply(npa1, npa2)"
      ],
      "metadata": {
        "colab": {
          "base_uri": "https://localhost:8080/"
        },
        "id": "fl-pmB44DtB0",
        "outputId": "2f63ce7d-d494-40ec-e315-c4a5fcf257ea"
      },
      "execution_count": 40,
      "outputs": [
        {
          "output_type": "execute_result",
          "data": {
            "text/plain": [
              "<tf.Tensor: shape=(5,), dtype=int64, numpy=array([ 6, 14, 24, 36,  5])>"
            ]
          },
          "metadata": {},
          "execution_count": 40
        }
      ]
    },
    {
      "cell_type": "code",
      "source": [
        "# numpy array with scaler value\n",
        "\n",
        "npa1 = np.array([1, 2, 3, 4, 5])\n",
        "npa2 = 10\n",
        "\n",
        "tf.multiply(npa1, npa2)"
      ],
      "metadata": {
        "colab": {
          "base_uri": "https://localhost:8080/"
        },
        "id": "-W6Rn3IIEgzm",
        "outputId": "b9e59e46-9b1e-4546-9ba6-e01a8934260b"
      },
      "execution_count": 41,
      "outputs": [
        {
          "output_type": "execute_result",
          "data": {
            "text/plain": [
              "<tf.Tensor: shape=(5,), dtype=int64, numpy=array([10, 20, 30, 40, 50])>"
            ]
          },
          "metadata": {},
          "execution_count": 41
        }
      ]
    },
    {
      "cell_type": "code",
      "source": [
        "npa1 = np.array([1, 2, 3, 4, 5])\n",
        "npa2 = np.array([6])\n",
        "\n",
        "tf.multiply(npa1, npa2)"
      ],
      "metadata": {
        "colab": {
          "base_uri": "https://localhost:8080/"
        },
        "id": "zdTSz7ApE3ln",
        "outputId": "055f7e6e-f39b-4840-c59f-75632bc84bd3"
      },
      "execution_count": 42,
      "outputs": [
        {
          "output_type": "execute_result",
          "data": {
            "text/plain": [
              "<tf.Tensor: shape=(5,), dtype=int64, numpy=array([ 6, 12, 18, 24, 30])>"
            ]
          },
          "metadata": {},
          "execution_count": 42
        }
      ]
    },
    {
      "cell_type": "code",
      "source": [
        "# add operation with constant\n",
        "tc1 = tf.constant([1, 2, 3, 4, 5])\n",
        "tc2 = tf.constant([1, 2, 3, 4, 5])\n",
        "\n",
        "tf.multiply(tc1, tc2)"
      ],
      "metadata": {
        "colab": {
          "base_uri": "https://localhost:8080/"
        },
        "id": "mE0nz726E64_",
        "outputId": "d7580a41-ada9-4415-e539-f1854e8110f8"
      },
      "execution_count": 43,
      "outputs": [
        {
          "output_type": "execute_result",
          "data": {
            "text/plain": [
              "<tf.Tensor: shape=(5,), dtype=int32, numpy=array([ 1,  4,  9, 16, 25], dtype=int32)>"
            ]
          },
          "metadata": {},
          "execution_count": 43
        }
      ]
    },
    {
      "cell_type": "code",
      "source": [
        "# add operation with constant with singlw value\n",
        "tc1 = tf.constant([1, 2, 3, 4, 5])\n",
        "tc2 = tf.constant([1])\n",
        "\n",
        "tf.multiply(tc1, tc2)"
      ],
      "metadata": {
        "colab": {
          "base_uri": "https://localhost:8080/"
        },
        "id": "7Fh64b_JFacA",
        "outputId": "85356770-7c96-4fb3-c7dd-af521c908a12"
      },
      "execution_count": 44,
      "outputs": [
        {
          "output_type": "execute_result",
          "data": {
            "text/plain": [
              "<tf.Tensor: shape=(5,), dtype=int32, numpy=array([1, 2, 3, 4, 5], dtype=int32)>"
            ]
          },
          "metadata": {},
          "execution_count": 44
        }
      ]
    },
    {
      "cell_type": "code",
      "source": [
        "# add operation with constant\n",
        "tc1 = tf.constant([1, 2, 3, 4, 5])\n",
        "tc2 = 10\n",
        "\n",
        "tf.multiply(tc1, tc2)"
      ],
      "metadata": {
        "colab": {
          "base_uri": "https://localhost:8080/"
        },
        "id": "wLpTWv0MFgVr",
        "outputId": "5f336822-d296-4a16-e7c1-43d66c88cad9"
      },
      "execution_count": 45,
      "outputs": [
        {
          "output_type": "execute_result",
          "data": {
            "text/plain": [
              "<tf.Tensor: shape=(5,), dtype=int32, numpy=array([10, 20, 30, 40, 50], dtype=int32)>"
            ]
          },
          "metadata": {},
          "execution_count": 45
        }
      ]
    },
    {
      "cell_type": "code",
      "source": [
        "# add operation with Varriable\n",
        "tv1 = tf.Variable([1, 2, 3, 4, 5])\n",
        "tv2 = tf.Variable([1, 2, 3, 4, 5])\n",
        "\n",
        "tf.multiply(tv1, tv2)"
      ],
      "metadata": {
        "colab": {
          "base_uri": "https://localhost:8080/"
        },
        "id": "a3uKbfVhFnr_",
        "outputId": "51c7e1b2-0b3f-4338-dd4d-819f1f915f79"
      },
      "execution_count": 46,
      "outputs": [
        {
          "output_type": "execute_result",
          "data": {
            "text/plain": [
              "<tf.Tensor: shape=(5,), dtype=int32, numpy=array([ 1,  4,  9, 16, 25], dtype=int32)>"
            ]
          },
          "metadata": {},
          "execution_count": 46
        }
      ]
    },
    {
      "cell_type": "code",
      "source": [
        "'''\n",
        "Add two numpy array with different shape\n",
        "Here the actual value is in the shape\n",
        "compromise the max one will be the shape\n",
        "of output\n",
        "\n",
        "here the output shape is (2, 2, 3, 3)\n",
        "'''\n",
        "x = np.ones(6).reshape(1, 2, 1, 3)\n",
        "x\n",
        "\n",
        "y = np.ones(6).reshape(2, 1, 3, 1)\n",
        "y\n",
        "\n",
        "tf.multiply(x, y)"
      ],
      "metadata": {
        "colab": {
          "base_uri": "https://localhost:8080/"
        },
        "id": "znLPXq-xFxrz",
        "outputId": "68c8940a-9e06-443e-ac5a-671b278033a6"
      },
      "execution_count": 47,
      "outputs": [
        {
          "output_type": "execute_result",
          "data": {
            "text/plain": [
              "<tf.Tensor: shape=(2, 2, 3, 3), dtype=float64, numpy=\n",
              "array([[[[1., 1., 1.],\n",
              "         [1., 1., 1.],\n",
              "         [1., 1., 1.]],\n",
              "\n",
              "        [[1., 1., 1.],\n",
              "         [1., 1., 1.],\n",
              "         [1., 1., 1.]]],\n",
              "\n",
              "\n",
              "       [[[1., 1., 1.],\n",
              "         [1., 1., 1.],\n",
              "         [1., 1., 1.]],\n",
              "\n",
              "        [[1., 1., 1.],\n",
              "         [1., 1., 1.],\n",
              "         [1., 1., 1.]]]])>"
            ]
          },
          "metadata": {},
          "execution_count": 47
        }
      ]
    },
    {
      "cell_type": "code",
      "source": [
        "tf.multiply(x, y).shape.as_list()"
      ],
      "metadata": {
        "colab": {
          "base_uri": "https://localhost:8080/"
        },
        "id": "u611Ou9MG5Yf",
        "outputId": "e1b922d3-6bd7-484d-9c1f-98639a50c0c8"
      },
      "execution_count": 48,
      "outputs": [
        {
          "output_type": "execute_result",
          "data": {
            "text/plain": [
              "[2, 2, 3, 3]"
            ]
          },
          "metadata": {},
          "execution_count": 48
        }
      ]
    },
    {
      "cell_type": "code",
      "source": [
        "# Scaler division\n",
        "a = 10\n",
        "b = 20\n",
        "\n",
        "c = a/b\n",
        "c"
      ],
      "metadata": {
        "colab": {
          "base_uri": "https://localhost:8080/"
        },
        "id": "rIajELamI3eF",
        "outputId": "487625f6-5bf4-4431-80d5-7dc92783d299"
      },
      "execution_count": 49,
      "outputs": [
        {
          "output_type": "execute_result",
          "data": {
            "text/plain": [
              "0.5"
            ]
          },
          "metadata": {},
          "execution_count": 49
        }
      ]
    },
    {
      "cell_type": "code",
      "source": [
        "tf.divide(a, b)"
      ],
      "metadata": {
        "colab": {
          "base_uri": "https://localhost:8080/"
        },
        "id": "mlcaC8vlI6iz",
        "outputId": "44640945-f1f1-454b-b211-04be976ab94f"
      },
      "execution_count": 50,
      "outputs": [
        {
          "output_type": "execute_result",
          "data": {
            "text/plain": [
              "<tf.Tensor: shape=(), dtype=float64, numpy=0.5>"
            ]
          },
          "metadata": {},
          "execution_count": 50
        }
      ]
    },
    {
      "cell_type": "code",
      "source": [
        "l1 = [1, 2, 3, 4]\n",
        "l2 = [5, 6, 7, 8]\n",
        "\n",
        "tf.divide(l1, l2)"
      ],
      "metadata": {
        "colab": {
          "base_uri": "https://localhost:8080/"
        },
        "id": "LBkl9661JPow",
        "outputId": "23ffb96b-dded-4cab-9a61-a7d6f42fbfb6"
      },
      "execution_count": 51,
      "outputs": [
        {
          "output_type": "execute_result",
          "data": {
            "text/plain": [
              "<tf.Tensor: shape=(4,), dtype=float64, numpy=array([0.2       , 0.33333333, 0.42857143, 0.5       ])>"
            ]
          },
          "metadata": {},
          "execution_count": 51
        }
      ]
    },
    {
      "cell_type": "code",
      "source": [
        "# divide function with tuple\n",
        "t1 = (1, 2, 3, 4)\n",
        "t2 = (5, 6, 7, 8)\n",
        "\n",
        "tf.divide(t1, t2)"
      ],
      "metadata": {
        "colab": {
          "base_uri": "https://localhost:8080/"
        },
        "id": "rqSczTF_JbdZ",
        "outputId": "d3507478-381a-47ba-bccc-1e5824a46059"
      },
      "execution_count": 52,
      "outputs": [
        {
          "output_type": "execute_result",
          "data": {
            "text/plain": [
              "<tf.Tensor: shape=(4,), dtype=float64, numpy=array([0.2       , 0.33333333, 0.42857143, 0.5       ])>"
            ]
          },
          "metadata": {},
          "execution_count": 52
        }
      ]
    },
    {
      "cell_type": "code",
      "source": [
        "l1 = [1, 2, 3, 4]\n",
        "a = 10\n",
        "\n",
        "tf.divide(l1, a)"
      ],
      "metadata": {
        "colab": {
          "base_uri": "https://localhost:8080/"
        },
        "id": "2_jg7HheJkb_",
        "outputId": "b93fba50-ee92-45d7-df85-ab53175a7bec"
      },
      "execution_count": 53,
      "outputs": [
        {
          "output_type": "execute_result",
          "data": {
            "text/plain": [
              "<tf.Tensor: shape=(4,), dtype=float64, numpy=array([0.1, 0.2, 0.3, 0.4])>"
            ]
          },
          "metadata": {},
          "execution_count": 53
        }
      ]
    },
    {
      "cell_type": "code",
      "source": [
        "npa1 = np.array([1, 2, 3, 4, 5])\n",
        "npa2 = np.array([6])\n",
        "\n",
        "tf.divide(npa1, npa2)"
      ],
      "metadata": {
        "colab": {
          "base_uri": "https://localhost:8080/"
        },
        "id": "CT32c7CoJrmt",
        "outputId": "3ff29362-8379-4ce0-fb6e-230aac53a111"
      },
      "execution_count": 54,
      "outputs": [
        {
          "output_type": "execute_result",
          "data": {
            "text/plain": [
              "<tf.Tensor: shape=(5,), dtype=float64, numpy=array([0.16666667, 0.33333333, 0.5       , 0.66666667, 0.83333333])>"
            ]
          },
          "metadata": {},
          "execution_count": 54
        }
      ]
    },
    {
      "cell_type": "code",
      "source": [
        "# numpy array with scaler value\n",
        "\n",
        "npa1 = np.array([1, 2, 3, 4, 5])\n",
        "npa2 = 10\n",
        "\n",
        "tf.divide(npa1, npa2)"
      ],
      "metadata": {
        "colab": {
          "base_uri": "https://localhost:8080/"
        },
        "id": "mOKNZN47Jx-I",
        "outputId": "ba70971c-4c71-48e1-892a-ed975abc545a"
      },
      "execution_count": 55,
      "outputs": [
        {
          "output_type": "execute_result",
          "data": {
            "text/plain": [
              "<tf.Tensor: shape=(5,), dtype=float64, numpy=array([0.1, 0.2, 0.3, 0.4, 0.5])>"
            ]
          },
          "metadata": {},
          "execution_count": 55
        }
      ]
    },
    {
      "cell_type": "code",
      "source": [
        "# divide operation with constant\n",
        "tc1 = tf.constant([1, 2, 3, 4, 5])\n",
        "tc2 = tf.constant([1, 2, 3, 4, 5])\n",
        "\n",
        "tf.divide(tc1, tc2)"
      ],
      "metadata": {
        "colab": {
          "base_uri": "https://localhost:8080/"
        },
        "id": "kVElUb3LJ30j",
        "outputId": "b4bea268-55cd-4dd8-ba78-870ca7f90feb"
      },
      "execution_count": 56,
      "outputs": [
        {
          "output_type": "execute_result",
          "data": {
            "text/plain": [
              "<tf.Tensor: shape=(5,), dtype=float64, numpy=array([1., 1., 1., 1., 1.])>"
            ]
          },
          "metadata": {},
          "execution_count": 56
        }
      ]
    },
    {
      "cell_type": "code",
      "source": [
        "# divide operation with constant with singlw value\n",
        "tc1 = tf.constant([1, 2, 3, 4, 5])\n",
        "tc2 = tf.constant([1])\n",
        "\n",
        "tf.divide(tc1, tc2)"
      ],
      "metadata": {
        "colab": {
          "base_uri": "https://localhost:8080/"
        },
        "id": "8VYyll9zJ-_Q",
        "outputId": "b25c3030-e8cb-4e06-bff0-24dbd93b2389"
      },
      "execution_count": 57,
      "outputs": [
        {
          "output_type": "execute_result",
          "data": {
            "text/plain": [
              "<tf.Tensor: shape=(5,), dtype=float64, numpy=array([1., 2., 3., 4., 5.])>"
            ]
          },
          "metadata": {},
          "execution_count": 57
        }
      ]
    },
    {
      "cell_type": "code",
      "source": [
        "# divide operation with constant with singlw value\n",
        "tc1 = tf.constant([1, 2, 3, 4, 5])\n",
        "tc2 = 10\n",
        "\n",
        "tf.divide(tc1, tc2)"
      ],
      "metadata": {
        "colab": {
          "base_uri": "https://localhost:8080/"
        },
        "id": "TzDJHoaCKIlB",
        "outputId": "612c1344-cfb5-4ba7-a745-5ca57373349d"
      },
      "execution_count": 58,
      "outputs": [
        {
          "output_type": "execute_result",
          "data": {
            "text/plain": [
              "<tf.Tensor: shape=(5,), dtype=float64, numpy=array([0.1, 0.2, 0.3, 0.4, 0.5])>"
            ]
          },
          "metadata": {},
          "execution_count": 58
        }
      ]
    },
    {
      "cell_type": "code",
      "source": [
        "# divide operation with variable\n",
        "tc1 = tf.Variable([1, 2, 3, 4, 5])\n",
        "tc2 = tf.Variable([1, 2, 3, 4, 5])\n",
        "\n",
        "tf.divide(tc1, tc2)"
      ],
      "metadata": {
        "colab": {
          "base_uri": "https://localhost:8080/"
        },
        "id": "FyAS_r3_KOsm",
        "outputId": "d2830065-fd29-4572-f8a4-bd30ff1dd928"
      },
      "execution_count": 59,
      "outputs": [
        {
          "output_type": "execute_result",
          "data": {
            "text/plain": [
              "<tf.Tensor: shape=(5,), dtype=float64, numpy=array([1., 1., 1., 1., 1.])>"
            ]
          },
          "metadata": {},
          "execution_count": 59
        }
      ]
    },
    {
      "cell_type": "code",
      "source": [
        "# divide operation with variable\n",
        "tc1 = tf.Variable([1, 2, 3, 4, 5])\n",
        "tc2 = tf.Variable([1])\n",
        "\n",
        "tf.divide(tc1, tc2)"
      ],
      "metadata": {
        "colab": {
          "base_uri": "https://localhost:8080/"
        },
        "id": "PFjZiBF_KbRR",
        "outputId": "658716fd-3407-4b36-8d4b-109c51e0b2ef"
      },
      "execution_count": 60,
      "outputs": [
        {
          "output_type": "execute_result",
          "data": {
            "text/plain": [
              "<tf.Tensor: shape=(5,), dtype=float64, numpy=array([1., 2., 3., 4., 5.])>"
            ]
          },
          "metadata": {},
          "execution_count": 60
        }
      ]
    },
    {
      "cell_type": "code",
      "source": [
        "# divide operation with variable\n",
        "tc1 = tf.Variable([1, 2, 3, 4, 5])\n",
        "tc2 = 10\n",
        "\n",
        "tf.divide(tc1, tc2)"
      ],
      "metadata": {
        "colab": {
          "base_uri": "https://localhost:8080/"
        },
        "id": "DrC6xCDLKeYD",
        "outputId": "05b98603-7681-45af-b8c6-a02142e50d38"
      },
      "execution_count": 61,
      "outputs": [
        {
          "output_type": "execute_result",
          "data": {
            "text/plain": [
              "<tf.Tensor: shape=(5,), dtype=float64, numpy=array([0.1, 0.2, 0.3, 0.4, 0.5])>"
            ]
          },
          "metadata": {},
          "execution_count": 61
        }
      ]
    },
    {
      "cell_type": "code",
      "source": [
        "'''\n",
        "here the output will be the same\n",
        "between the two shape size\n",
        "'''\n",
        "\n",
        "x = np.ones(6).reshape(1, 2, 1, 3)\n",
        "x\n",
        "\n",
        "y = np.ones(6).reshape(2, 1, 3, 1)\n",
        "y\n",
        "\n",
        "tf.divide(x, y)"
      ],
      "metadata": {
        "colab": {
          "base_uri": "https://localhost:8080/"
        },
        "id": "M5FmuDdUKg3p",
        "outputId": "2ac14157-d8b5-4e49-d3f1-9916469cb6ed"
      },
      "execution_count": 62,
      "outputs": [
        {
          "output_type": "execute_result",
          "data": {
            "text/plain": [
              "<tf.Tensor: shape=(2, 2, 3, 3), dtype=float64, numpy=\n",
              "array([[[[1., 1., 1.],\n",
              "         [1., 1., 1.],\n",
              "         [1., 1., 1.]],\n",
              "\n",
              "        [[1., 1., 1.],\n",
              "         [1., 1., 1.],\n",
              "         [1., 1., 1.]]],\n",
              "\n",
              "\n",
              "       [[[1., 1., 1.],\n",
              "         [1., 1., 1.],\n",
              "         [1., 1., 1.]],\n",
              "\n",
              "        [[1., 1., 1.],\n",
              "         [1., 1., 1.],\n",
              "         [1., 1., 1.]]]])>"
            ]
          },
          "metadata": {},
          "execution_count": 62
        }
      ]
    },
    {
      "cell_type": "code",
      "source": [],
      "metadata": {
        "id": "7t5dV0kCK6_c"
      },
      "execution_count": null,
      "outputs": []
    }
  ]
}