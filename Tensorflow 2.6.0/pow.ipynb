{
  "nbformat": 4,
  "nbformat_minor": 0,
  "metadata": {
    "colab": {
      "provenance": []
    },
    "kernelspec": {
      "name": "python3",
      "display_name": "Python 3"
    },
    "language_info": {
      "name": "python"
    }
  },
  "cells": [
    {
      "cell_type": "code",
      "execution_count": 1,
      "metadata": {
        "id": "baX8zjS-VRjs"
      },
      "outputs": [],
      "source": [
        "'''\n",
        "Element wise power calculation\n",
        "It can be given power to scaler or numpy array\n",
        "It allow tf constant/variable/placeholder/sparse_matrix with specefic datatype\n",
        "\n",
        "Dont pass data into int format, it will through error\n",
        "'''\n",
        "import tensorflow as tf\n",
        "import numpy as np"
      ]
    },
    {
      "cell_type": "code",
      "source": [
        "a = 2\n",
        "b = 4\n",
        "\n",
        "tf.pow(a, b)"
      ],
      "metadata": {
        "colab": {
          "base_uri": "https://localhost:8080/"
        },
        "id": "MDM9O7JegKLn",
        "outputId": "9c931d4f-ca7e-434d-c02a-ee04368a1687"
      },
      "execution_count": 2,
      "outputs": [
        {
          "output_type": "execute_result",
          "data": {
            "text/plain": [
              "<tf.Tensor: shape=(), dtype=int32, numpy=16>"
            ]
          },
          "metadata": {},
          "execution_count": 2
        }
      ]
    },
    {
      "cell_type": "code",
      "source": [
        "# power of numpy array\n",
        "arr = np.array([1, 2, 3, 4, 5], dtype = np.float32)\n",
        "tf.pow(arr, 2)"
      ],
      "metadata": {
        "colab": {
          "base_uri": "https://localhost:8080/"
        },
        "id": "iBQJvWE9l4hC",
        "outputId": "6e802cf4-d9cc-4add-9352-87d31da1d2c3"
      },
      "execution_count": 3,
      "outputs": [
        {
          "output_type": "execute_result",
          "data": {
            "text/plain": [
              "<tf.Tensor: shape=(5,), dtype=float32, numpy=array([ 1.,  4.,  9., 16., 25.], dtype=float32)>"
            ]
          },
          "metadata": {},
          "execution_count": 3
        }
      ]
    },
    {
      "cell_type": "code",
      "source": [
        "# we can also do element wise power enitialization\n",
        "# here shape must be same\n",
        "arr = np.array([1, 2, 3, ], dtype = np.float64)\n",
        "arr2 = np.array([2, 3, 2 ], dtype = np.float64)\n",
        "\n",
        "tf.pow(arr, arr2)"
      ],
      "metadata": {
        "colab": {
          "base_uri": "https://localhost:8080/"
        },
        "id": "dwOdfEiYmKyl",
        "outputId": "1367aaa2-1b53-40d4-ad56-1ec45f8054d6"
      },
      "execution_count": 6,
      "outputs": [
        {
          "output_type": "execute_result",
          "data": {
            "text/plain": [
              "<tf.Tensor: shape=(3,), dtype=float64, numpy=array([1., 8., 9.])>"
            ]
          },
          "metadata": {},
          "execution_count": 6
        }
      ]
    },
    {
      "cell_type": "code",
      "source": [
        "tf.pow(tf.convert_to_tensor([1, 2, 3, 4], dtype = \"float\"), 2)"
      ],
      "metadata": {
        "colab": {
          "base_uri": "https://localhost:8080/"
        },
        "id": "XVYdq0iLmmIp",
        "outputId": "a2940af9-1cfb-4c7d-ad16-06f1427307eb"
      },
      "execution_count": 7,
      "outputs": [
        {
          "output_type": "execute_result",
          "data": {
            "text/plain": [
              "<tf.Tensor: shape=(4,), dtype=float32, numpy=array([ 1.,  4.,  9., 16.], dtype=float32)>"
            ]
          },
          "metadata": {},
          "execution_count": 7
        }
      ]
    },
    {
      "cell_type": "code",
      "source": [
        "# tensorflow with constant\n",
        "tc1 = tf.constant([1, 2, 3, 4], dtype=\"float\")\n",
        "tc2 = tf.constant([1, 2, 3, 4], dtype=\"float\")\n",
        "tc3 = tf.constant([2], dtype=\"float\")\n",
        "\n",
        "a = tf.pow(tc1, 2)\n",
        "print(a)\n",
        "\n",
        "b = tf.pow(tc1, tc2)\n",
        "print(b)\n",
        "\n",
        "c = tf.pow(tc1, tc3)\n",
        "print(c)"
      ],
      "metadata": {
        "colab": {
          "base_uri": "https://localhost:8080/"
        },
        "id": "01FFYQADnOk0",
        "outputId": "1517bf5b-1279-4cf3-d439-21e08761bd82"
      },
      "execution_count": 11,
      "outputs": [
        {
          "output_type": "stream",
          "name": "stdout",
          "text": [
            "tf.Tensor([ 1.  4.  9. 16.], shape=(4,), dtype=float32)\n",
            "tf.Tensor([  1.   4.  27. 256.], shape=(4,), dtype=float32)\n",
            "tf.Tensor([ 1.  4.  9. 16.], shape=(4,), dtype=float32)\n"
          ]
        }
      ]
    },
    {
      "cell_type": "code",
      "source": [
        "# tensorflow with Variable\n",
        "tc1 = tf.Variable([1, 2, 3, 4], dtype=\"float\")\n",
        "tc2 = tf.Variable([1, 2, 3, 4], dtype=\"float\")\n",
        "tc3 = tf.Variable([2], dtype=\"float\")\n",
        "\n",
        "a = tf.pow(tc1, 2)\n",
        "print(a)\n",
        "\n",
        "b = tf.pow(tc1, tc2)\n",
        "print(b)\n",
        "\n",
        "c = tf.pow(tc1, tc3)\n",
        "print(c)"
      ],
      "metadata": {
        "colab": {
          "base_uri": "https://localhost:8080/"
        },
        "id": "tN3hKvsOn-iV",
        "outputId": "837a3e2e-c95a-4503-c5ce-a3234580e157"
      },
      "execution_count": 12,
      "outputs": [
        {
          "output_type": "stream",
          "name": "stdout",
          "text": [
            "tf.Tensor([ 1.  4.  9. 16.], shape=(4,), dtype=float32)\n",
            "tf.Tensor([  1.   4.  27. 256.], shape=(4,), dtype=float32)\n",
            "tf.Tensor([ 1.  4.  9. 16.], shape=(4,), dtype=float32)\n"
          ]
        }
      ]
    },
    {
      "cell_type": "code",
      "source": [],
      "metadata": {
        "id": "5NFP7_ciolTx"
      },
      "execution_count": null,
      "outputs": []
    }
  ]
}