{
 "cells": [
  {
   "cell_type": "markdown",
   "id": "e12a2719-17f0-4675-ae56-e7055fbfbdfc",
   "metadata": {},
   "source": [
    "### Numpy\n",
    "* NumPy is a general-purpose array-processing package. \n",
    "* It provides a high-performance multidimensional array object, and tools for working with these arrays. \n",
    "* It is the fundamental package for scientific computing with Python"
   ]
  },
  {
   "cell_type": "code",
   "execution_count": 2,
   "id": "b185b2c6",
   "metadata": {},
   "outputs": [],
   "source": [
    "## import the library\n",
    "import numpy as np"
   ]
  },
  {
   "cell_type": "code",
   "execution_count": 3,
   "id": "bb1b5a35",
   "metadata": {},
   "outputs": [
    {
     "name": "stdout",
     "output_type": "stream",
     "text": [
      "<class 'numpy.ndarray'>\n",
      "(4,)\n"
     ]
    }
   ],
   "source": [
    "# list to array and shape \n",
    "lst=[1,2,3,4]\n",
    "arr=np.array(lst)\n",
    "print(type(arr))\n",
    "print(arr.shape)"
   ]
  },
  {
   "cell_type": "code",
   "execution_count": 4,
   "id": "d6f716b0",
   "metadata": {},
   "outputs": [
    {
     "name": "stdout",
     "output_type": "stream",
     "text": [
      "(3, 5)\n",
      "[[1 2 3 4 5]\n",
      " [2 3 4 5 6]\n",
      " [3 4 5 6 7]]\n"
     ]
    }
   ],
   "source": [
    "# list to nested array\n",
    "lst1=[1,2,3,4,5]\n",
    "lst2=[2,3,4,5,6]\n",
    "lst3=[3,4,5,6,7]\n",
    "\n",
    "arr=np.array([lst1,lst2,lst3])\n",
    "print(arr.shape)\n",
    "print(arr)"
   ]
  },
  {
   "cell_type": "code",
   "execution_count": 5,
   "id": "23550f22",
   "metadata": {},
   "outputs": [
    {
     "data": {
      "text/plain": [
       "4"
      ]
     },
     "execution_count": 5,
     "metadata": {},
     "output_type": "execute_result"
    }
   ],
   "source": [
    "# indexing \n",
    "lst=[1,2,3,4]\n",
    "arr = np.array(lst)\n",
    "arr[3]"
   ]
  },
  {
   "cell_type": "code",
   "execution_count": 6,
   "id": "17b36e76",
   "metadata": {},
   "outputs": [
    {
     "name": "stdout",
     "output_type": "stream",
     "text": [
      "[1 2 3 5]\n",
      "5\n"
     ]
    }
   ],
   "source": [
    "# we can change value \n",
    "arr[3]=5\n",
    "print(arr)\n",
    "print(arr[-1])"
   ]
  },
  {
   "cell_type": "code",
   "execution_count": 7,
   "id": "86917975",
   "metadata": {},
   "outputs": [
    {
     "name": "stdout",
     "output_type": "stream",
     "text": [
      "[1 2 3]\n",
      "[5 1]\n"
     ]
    }
   ],
   "source": [
    "# array slicing \n",
    "print(arr[:-1])\n",
    "print(arr[::-3])"
   ]
  },
  {
   "cell_type": "code",
   "execution_count": 12,
   "id": "3ba7e29b-66c3-4194-9696-f605daf0c0c6",
   "metadata": {},
   "outputs": [
    {
     "name": "stdout",
     "output_type": "stream",
     "text": [
      "[[1 2 3 4 5]\n",
      " [2 3 4 5 6]\n",
      " [3 4 5 6 7]]\n"
     ]
    }
   ],
   "source": [
    "# make a nasted array \n",
    "lst1=[1,2,3,4,5]\n",
    "lst2=[2,3,4,5,6]\n",
    "lst3=[3,4,5,6,7]\n",
    "\n",
    "arr=np.array([lst1,lst2,lst3])\n",
    "print(arr)"
   ]
  },
  {
   "cell_type": "code",
   "execution_count": 13,
   "id": "2cdcf9f7",
   "metadata": {},
   "outputs": [
    {
     "data": {
      "text/plain": [
       "array([3, 4, 5])"
      ]
     },
     "execution_count": 13,
     "metadata": {},
     "output_type": "execute_result"
    }
   ],
   "source": [
    "# find the second column of this array \n",
    "arr[:,2]"
   ]
  },
  {
   "cell_type": "code",
   "execution_count": 21,
   "id": "bc0e370d-0065-4a57-b1eb-d8950933589c",
   "metadata": {},
   "outputs": [
    {
     "data": {
      "text/plain": [
       "array([[2, 3],\n",
       "       [3, 4]])"
      ]
     },
     "execution_count": 21,
     "metadata": {},
     "output_type": "execute_result"
    }
   ],
   "source": [
    "# second row and first 2 column \n",
    "arr[1,0:2]"
   ]
  },
  {
   "cell_type": "code",
   "execution_count": 23,
   "id": "59aab9ee",
   "metadata": {},
   "outputs": [
    {
     "data": {
      "text/plain": [
       "array([[3],\n",
       "       [4]])"
      ]
     },
     "execution_count": 23,
     "metadata": {},
     "output_type": "execute_result"
    }
   ],
   "source": [
    "# second and third rows and second column \n",
    "arr[1:3,1:2]"
   ]
  },
  {
   "cell_type": "code",
   "execution_count": 24,
   "id": "060e8f8b",
   "metadata": {},
   "outputs": [
    {
     "data": {
      "text/plain": [
       "array([[5, 6],\n",
       "       [6, 7]])"
      ]
     },
     "execution_count": 24,
     "metadata": {},
     "output_type": "execute_result"
    }
   ],
   "source": [
    "# second and third row and forth and fifth column \n",
    "arr[1:,3:]"
   ]
  },
  {
   "cell_type": "code",
   "execution_count": 29,
   "id": "a515ea9c",
   "metadata": {},
   "outputs": [
    {
     "data": {
      "text/plain": [
       "array([ True, False, False, False])"
      ]
     },
     "execution_count": 29,
     "metadata": {},
     "output_type": "execute_result"
    }
   ],
   "source": [
    "# arr declearation \n",
    "lst = [1, 2, 3, 5]\n",
    "arr = np.array(lst)\n",
    "arr<2"
   ]
  },
  {
   "cell_type": "code",
   "execution_count": 30,
   "id": "c9584f93",
   "metadata": {},
   "outputs": [
    {
     "data": {
      "text/plain": [
       "array([1])"
      ]
     },
     "execution_count": 30,
     "metadata": {},
     "output_type": "execute_result"
    }
   ],
   "source": [
    "# see the indexing \n",
    "arr[arr<2]"
   ]
  },
  {
   "cell_type": "code",
   "execution_count": 31,
   "id": "7a20b114-0064-4b98-a453-b766f49ffaba",
   "metadata": {},
   "outputs": [
    {
     "data": {
      "text/plain": [
       "(5, 3)"
      ]
     },
     "execution_count": 31,
     "metadata": {},
     "output_type": "execute_result"
    }
   ],
   "source": [
    "# Check the shape of the array\n",
    "lst = [[1, 2, 3],\n",
    "       [4, 5, 2],\n",
    "       [3, 4, 5],\n",
    "       [6, 3, 4],\n",
    "       [5, 6, 7]]\n",
    "arr = np.array(lst)\n",
    "arr.shape"
   ]
  },
  {
   "cell_type": "code",
   "execution_count": 32,
   "id": "6d6d0a24",
   "metadata": {},
   "outputs": [
    {
     "data": {
      "text/plain": [
       "array([[1, 2, 3],\n",
       "       [4, 5, 2],\n",
       "       [3, 4, 5],\n",
       "       [6, 3, 4],\n",
       "       [5, 6, 7]])"
      ]
     },
     "execution_count": 32,
     "metadata": {},
     "output_type": "execute_result"
    }
   ],
   "source": [
    "# Reshape the array \n",
    "arr.reshape(5,3)"
   ]
  },
  {
   "cell_type": "code",
   "execution_count": 44,
   "id": "d1462081",
   "metadata": {},
   "outputs": [
    {
     "data": {
      "text/plain": [
       "array([[ 1,  3,  5,  7,  9],\n",
       "       [11, 13, 15, 17, 19]])"
      ]
     },
     "execution_count": 44,
     "metadata": {},
     "output_type": "execute_result"
    }
   ],
   "source": [
    "# mechanism to create an array\n",
    "np.arange(1,20,2).reshape(2,5)"
   ]
  },
  {
   "cell_type": "code",
   "execution_count": 33,
   "id": "ce3eada1",
   "metadata": {},
   "outputs": [
    {
     "data": {
      "text/plain": [
       "array([[[ 1],\n",
       "        [ 3],\n",
       "        [ 5],\n",
       "        [ 7],\n",
       "        [ 9]],\n",
       "\n",
       "       [[11],\n",
       "        [13],\n",
       "        [15],\n",
       "        [17],\n",
       "        [19]]])"
      ]
     },
     "execution_count": 33,
     "metadata": {},
     "output_type": "execute_result"
    }
   ],
   "source": [
    "# create and array and reshape it \n",
    "np.arange(1,20,2).reshape(2,5,1)"
   ]
  },
  {
   "cell_type": "code",
   "execution_count": 34,
   "id": "be8061d2",
   "metadata": {},
   "outputs": [
    {
     "data": {
      "text/plain": [
       "array([ 1,  4,  9, 16])"
      ]
     },
     "execution_count": 34,
     "metadata": {},
     "output_type": "execute_result"
    }
   ],
   "source": [
    "# array multiplication \n",
    "lst=[1,2,3,4]\n",
    "arr = np.array(lst)\n",
    "arr*arr"
   ]
  },
  {
   "cell_type": "code",
   "execution_count": 35,
   "id": "bbe15cc2",
   "metadata": {},
   "outputs": [
    {
     "data": {
      "text/plain": [
       "array([[1., 1., 1.],\n",
       "       [1., 1., 1.],\n",
       "       [1., 1., 1.],\n",
       "       [1., 1., 1.],\n",
       "       [1., 1., 1.]])"
      ]
     },
     "execution_count": 35,
     "metadata": {},
     "output_type": "execute_result"
    }
   ],
   "source": [
    "# ones function \n",
    "np.ones((5,3))"
   ]
  },
  {
   "cell_type": "code",
   "execution_count": 36,
   "id": "6533e57a",
   "metadata": {},
   "outputs": [
    {
     "data": {
      "text/plain": [
       "array([[0., 0., 0., 0., 0.],\n",
       "       [0., 0., 0., 0., 0.],\n",
       "       [0., 0., 0., 0., 0.],\n",
       "       [0., 0., 0., 0., 0.]])"
      ]
     },
     "execution_count": 36,
     "metadata": {},
     "output_type": "execute_result"
    }
   ],
   "source": [
    "# zeros function \n",
    "np.zeros((4,5))"
   ]
  },
  {
   "cell_type": "code",
   "execution_count": 38,
   "id": "b69c75d0",
   "metadata": {},
   "outputs": [
    {
     "name": "stdout",
     "output_type": "stream",
     "text": [
      "[[47 19]\n",
      " [42 29]]\n"
     ]
    }
   ],
   "source": [
    "# random function\n",
    "arr = np.random.randint(10,50,4)\n",
    "arr = arr.reshape(2,2)\n",
    "print(arr)"
   ]
  },
  {
   "cell_type": "code",
   "execution_count": 39,
   "id": "1c57dfae",
   "metadata": {},
   "outputs": [
    {
     "data": {
      "text/plain": [
       "array([[ 0.23226493, -0.29728144, -1.56295356, -0.10712198, -1.36223352],\n",
       "       [ 2.62259787,  1.05117602,  0.53831764, -1.61601827, -0.28178182],\n",
       "       [-0.45565231, -0.37574884, -1.60936243,  0.41834149, -1.51367451],\n",
       "       [ 1.44686903, -0.64788844, -1.2040344 ,  0.55307237,  0.20417024],\n",
       "       [-1.25908475, -0.7267581 ,  0.45885546, -0.71968455, -0.34063447]])"
      ]
     },
     "execution_count": 39,
     "metadata": {},
     "output_type": "execute_result"
    }
   ],
   "source": [
    "np.random.randn(5,5)"
   ]
  },
  {
   "cell_type": "code",
   "execution_count": 80,
   "id": "c4e377f7",
   "metadata": {},
   "outputs": [
    {
     "data": {
      "text/plain": [
       "array([[0.13871895, 0.58456466, 0.31541441, 0.67910295, 0.1837086 ,\n",
       "        0.08103746, 0.50976945],\n",
       "       [0.67483078, 0.41252643, 0.0877961 , 0.92338101, 0.25762097,\n",
       "        0.55850649, 0.26534539],\n",
       "       [0.05930126, 0.53209293, 0.90407746, 0.71743787, 0.89905166,\n",
       "        0.22360872, 0.10365036],\n",
       "       [0.36820358, 0.30483507, 0.49569278, 0.7850211 , 0.96484935,\n",
       "        0.72614993, 0.83010606]])"
      ]
     },
     "execution_count": 80,
     "metadata": {},
     "output_type": "execute_result"
    }
   ],
   "source": [
    "np.random.random_sample((4,7))"
   ]
  },
  {
   "cell_type": "code",
   "execution_count": null,
   "id": "b1db7481",
   "metadata": {},
   "outputs": [],
   "source": []
  }
 ],
 "metadata": {
  "kernelspec": {
   "display_name": "Python 3 (ipykernel)",
   "language": "python",
   "name": "python3"
  },
  "language_info": {
   "codemirror_mode": {
    "name": "ipython",
    "version": 3
   },
   "file_extension": ".py",
   "mimetype": "text/x-python",
   "name": "python",
   "nbconvert_exporter": "python",
   "pygments_lexer": "ipython3",
   "version": "3.11.5"
  }
 },
 "nbformat": 4,
 "nbformat_minor": 5
}
