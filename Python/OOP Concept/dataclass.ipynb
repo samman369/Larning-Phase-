{
 "cells": [
  {
   "cell_type": "code",
   "execution_count": 1,
   "id": "b711ec9f-ba4f-40d8-897c-a00f2e5efbcc",
   "metadata": {},
   "outputs": [],
   "source": [
    "from dataclasses import dataclass\n",
    "\n",
    "@dataclass\n",
    "class Person:\n",
    "    name:str\n",
    "    age:int\n",
    "    profession:str"
   ]
  },
  {
   "cell_type": "code",
   "execution_count": 3,
   "id": "edccadfc-a7cd-4d30-805e-e38d83ad58c2",
   "metadata": {},
   "outputs": [
    {
     "name": "stdout",
     "output_type": "stream",
     "text": [
      "Hello World\n"
     ]
    }
   ],
   "source": [
    "'''\n",
    "The @dataclass decorator automatically generates the following methods for you:\n",
    "\n",
    "init(): Initializes the object and assigns the provided values to the attributes.\n",
    "repr(): Provides a string representation of the object.\n",
    "eq(): Implements equality comparison between two objects of the class based on their attributes.\n",
    "'''\n",
    "print(\"Hello World\")"
   ]
  },
  {
   "cell_type": "code",
   "execution_count": 4,
   "id": "1137bb41-0d03-4531-8ce9-41e62bce028c",
   "metadata": {},
   "outputs": [
    {
     "data": {
      "text/plain": [
       "Person(name='abu Salaho as samman', age=23, profession='Ml')"
      ]
     },
     "execution_count": 4,
     "metadata": {},
     "output_type": "execute_result"
    }
   ],
   "source": [
    "# create object \n",
    "person1=Person('abu Salaho as samman',23,'Ml')\n",
    "person1"
   ]
  },
  {
   "cell_type": "code",
   "execution_count": 5,
   "id": "3c671ae8-94a7-4b0f-a701-722cf79e35d5",
   "metadata": {},
   "outputs": [
    {
     "data": {
      "text/plain": [
       "23"
      ]
     },
     "execution_count": 5,
     "metadata": {},
     "output_type": "execute_result"
    }
   ],
   "source": [
    "# call individuaal perameter\n",
    "person1.age"
   ]
  },
  {
   "cell_type": "code",
   "execution_count": 6,
   "id": "72c20f65-7e2c-4e2a-9314-6a12905e6ab4",
   "metadata": {},
   "outputs": [],
   "source": [
    "@dataclass\n",
    "class Rectangle:\n",
    "    width:int\n",
    "    height:int\n",
    "    color:str='white'\n",
    "\n",
    "rectangle1=Rectangle(12,14)\n",
    "rectangle2=Rectangle(13,14,'red')"
   ]
  },
  {
   "cell_type": "code",
   "execution_count": 7,
   "id": "f49bc4d2-64c7-4b7f-9d8c-03f3a1e83df6",
   "metadata": {},
   "outputs": [
    {
     "data": {
      "text/plain": [
       "'red'"
      ]
     },
     "execution_count": 7,
     "metadata": {},
     "output_type": "execute_result"
    }
   ],
   "source": [
    "rectangle2.color"
   ]
  },
  {
   "cell_type": "code",
   "execution_count": 8,
   "id": "dbf5a7b8-ba21-4e64-bf09-c2755edfd6a2",
   "metadata": {},
   "outputs": [],
   "source": [
    "# frozen means you can not change after one iteration \n",
    "@dataclass(frozen=True)\n",
    "class Point:\n",
    "    x:int\n",
    "    y:int"
   ]
  },
  {
   "cell_type": "code",
   "execution_count": 9,
   "id": "15985cdb-d4e6-4a15-8576-1760e6e17dc5",
   "metadata": {},
   "outputs": [
    {
     "data": {
      "text/plain": [
       "(3, 4)"
      ]
     },
     "execution_count": 9,
     "metadata": {},
     "output_type": "execute_result"
    }
   ],
   "source": [
    "point=Point(3,4)\n",
    "point.x,point.y"
   ]
  },
  {
   "cell_type": "code",
   "execution_count": 10,
   "id": "ac23a415-630b-4390-a5a6-a467a27e0c96",
   "metadata": {},
   "outputs": [
    {
     "ename": "FrozenInstanceError",
     "evalue": "cannot assign to field 'x'",
     "output_type": "error",
     "traceback": [
      "\u001b[1;31m---------------------------------------------------------------------------\u001b[0m",
      "\u001b[1;31mFrozenInstanceError\u001b[0m                       Traceback (most recent call last)",
      "Cell \u001b[1;32mIn[10], line 1\u001b[0m\n\u001b[1;32m----> 1\u001b[0m \u001b[43mpoint\u001b[49m\u001b[38;5;241;43m.\u001b[39;49m\u001b[43mx\u001b[49m\u001b[38;5;241m=\u001b[39m\u001b[38;5;241m12\u001b[39m\n",
      "File \u001b[1;32m<string>:4\u001b[0m, in \u001b[0;36m__setattr__\u001b[1;34m(self, name, value)\u001b[0m\n",
      "\u001b[1;31mFrozenInstanceError\u001b[0m: cannot assign to field 'x'"
     ]
    }
   ],
   "source": [
    "point.x=12"
   ]
  },
  {
   "cell_type": "code",
   "execution_count": 11,
   "id": "33f8e9db-503d-4174-b290-948c42ece328",
   "metadata": {},
   "outputs": [],
   "source": [
    "# inheritance in dataclass\n",
    "\n",
    "@dataclass\n",
    "class Person:\n",
    "    name:str\n",
    "    age:int\n",
    "\n",
    "@dataclass\n",
    "class Employee(Person):\n",
    "    employee_id:str\n",
    "    department:str"
   ]
  },
  {
   "cell_type": "code",
   "execution_count": 13,
   "id": "6aea1b1d-8740-4e2a-9d24-dfef1b59f9f2",
   "metadata": {},
   "outputs": [
    {
     "data": {
      "text/plain": [
       "'Abu Salaho'"
      ]
     },
     "execution_count": 13,
     "metadata": {},
     "output_type": "execute_result"
    }
   ],
   "source": [
    "person=Person('Abu Salaho',24)\n",
    "employee=Employee(\"Abu Salaho\",24,'123','AI')\n",
    "employee.name"
   ]
  },
  {
   "cell_type": "code",
   "execution_count": 14,
   "id": "393b2582-f9c3-4646-a7ff-512a5cddf4e4",
   "metadata": {},
   "outputs": [],
   "source": [
    "# nested Dataclasses\n",
    "\n",
    "@dataclass\n",
    "class Address:\n",
    "    street:str\n",
    "    city:str\n",
    "    zip_code:str\n",
    "\n",
    "@dataclass\n",
    "class Person:\n",
    "    name:str\n",
    "    age:str\n",
    "    address:Address"
   ]
  },
  {
   "cell_type": "code",
   "execution_count": null,
   "id": "66d2ad52-83c4-4241-97ae-294e478901fb",
   "metadata": {},
   "outputs": [],
   "source": [
    "address=Address('123 MAin street','Bangal','12345')\n",
    "person=Person(\"Krish\",31,address)"
   ]
  }
 ],
 "metadata": {
  "kernelspec": {
   "display_name": "Python 3 (ipykernel)",
   "language": "python",
   "name": "python3"
  },
  "language_info": {
   "codemirror_mode": {
    "name": "ipython",
    "version": 3
   },
   "file_extension": ".py",
   "mimetype": "text/x-python",
   "name": "python",
   "nbconvert_exporter": "python",
   "pygments_lexer": "ipython3",
   "version": "3.11.5"
  }
 },
 "nbformat": 4,
 "nbformat_minor": 5
}
