{
 "cells": [
  {
   "cell_type": "code",
   "execution_count": 1,
   "id": "52d77005-92f7-4600-8b19-33c91a3639b9",
   "metadata": {},
   "outputs": [],
   "source": [
    "# it works like access modifier \n",
    "class Person:\n",
    "    # constructor\n",
    "    def __init__(self,name,age):\n",
    "        self.__name=name\n",
    "        self.__age=age\n",
    "\n",
    "    def display_info(self):\n",
    "        print(f\"the person name is {self.__name} and the age is {self.__age}\")"
   ]
  },
  {
   "cell_type": "code",
   "execution_count": 2,
   "id": "dddc940c-74f8-4969-82c9-e1d669e71eb0",
   "metadata": {},
   "outputs": [
    {
     "name": "stdout",
     "output_type": "stream",
     "text": [
      "the person name is Abu Salaho and the age is 25\n"
     ]
    }
   ],
   "source": [
    "# create an object \n",
    "person=Person(\"Abu Salaho\",25)\n",
    "person.display_info()"
   ]
  },
  {
   "cell_type": "code",
   "execution_count": 3,
   "id": "03160cd1-e61a-4e80-a057-39944283b170",
   "metadata": {},
   "outputs": [],
   "source": [
    "# now create an object with protected mode\n",
    "class Person:\n",
    "    # constructor\n",
    "    def __init__(self,name,age):\n",
    "        self._name=name\n",
    "        self._age=age"
   ]
  },
  {
   "cell_type": "code",
   "execution_count": 4,
   "id": "e833343b-82c2-4435-b44a-c6b711a6b274",
   "metadata": {},
   "outputs": [],
   "source": [
    "# now create an object for protected class\n",
    "person=Person(\"samman\",24)"
   ]
  },
  {
   "cell_type": "code",
   "execution_count": 5,
   "id": "cd91d6c5-8c38-4645-a8f2-9024526239f3",
   "metadata": {},
   "outputs": [
    {
     "data": {
      "text/plain": [
       "32"
      ]
     },
     "execution_count": 5,
     "metadata": {},
     "output_type": "execute_result"
    }
   ],
   "source": [
    "dir(person)\n",
    "person._age"
   ]
  },
  {
   "cell_type": "code",
   "execution_count": 6,
   "id": "7bc2ce4f-2ff6-46af-a644-0a86793271c2",
   "metadata": {},
   "outputs": [],
   "source": [
    "class Student(Person):\n",
    "    def __init__(self,name,age):\n",
    "        super().__init__(name,age)\n",
    "\n",
    "    def display_info(self):\n",
    "        print(f\"the person name is {self._name} and the age is {self._age}\")"
   ]
  },
  {
   "cell_type": "code",
   "execution_count": 8,
   "id": "0359b4f1-7539-4978-9ca2-785fabc01d31",
   "metadata": {},
   "outputs": [],
   "source": [
    "student1=Student(\"Abu Salaho\",24)"
   ]
  },
  {
   "cell_type": "code",
   "execution_count": 9,
   "id": "0480e40e-f94d-4ef1-ba2d-3b82f8921410",
   "metadata": {},
   "outputs": [
    {
     "name": "stdout",
     "output_type": "stream",
     "text": [
      "the person name is Abu Salaho and the age is 24\n"
     ]
    }
   ],
   "source": [
    "student1.display_info()"
   ]
  },
  {
   "cell_type": "code",
   "execution_count": 10,
   "id": "6f0be9b0-d1fa-4256-9b69-ced65add67ca",
   "metadata": {},
   "outputs": [],
   "source": [
    "## public access modifiers\n",
    "class Person:\n",
    "    ## constructor\n",
    "    def __init__(self,name,age):\n",
    "        self.name=name\n",
    "        self.age=age"
   ]
  },
  {
   "cell_type": "code",
   "execution_count": null,
   "id": "d34a0433-f17c-496b-92d1-b6328304dd47",
   "metadata": {},
   "outputs": [],
   "source": []
  }
 ],
 "metadata": {
  "kernelspec": {
   "display_name": "Python 3 (ipykernel)",
   "language": "python",
   "name": "python3"
  },
  "language_info": {
   "codemirror_mode": {
    "name": "ipython",
    "version": 3
   },
   "file_extension": ".py",
   "mimetype": "text/x-python",
   "name": "python",
   "nbconvert_exporter": "python",
   "pygments_lexer": "ipython3",
   "version": "3.11.5"
  }
 },
 "nbformat": 4,
 "nbformat_minor": 5
}
