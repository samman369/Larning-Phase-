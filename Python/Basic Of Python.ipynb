{
 "cells": [
  {
   "cell_type": "markdown",
   "id": "bea5bc35-4725-4e06-a138-70c6220354ae",
   "metadata": {
    "jp-MarkdownHeadingCollapsed": true
   },
   "source": [
    "### Basic"
   ]
  },
  {
   "cell_type": "code",
   "execution_count": null,
   "id": "59ee1623-54c6-443f-a9fe-90ba77e4ce7c",
   "metadata": {},
   "outputs": [],
   "source": [
    "# printing value\n",
    "print(\"Hello world\")\n",
    "print(\"Welcome To The Course\")"
   ]
  },
  {
   "cell_type": "code",
   "execution_count": 83,
   "id": "17a5c2a9-3489-4de3-8848-a62ac0be1280",
   "metadata": {},
   "outputs": [
    {
     "name": "stdout",
     "output_type": "stream",
     "text": [
      "Hello\n"
     ]
    }
   ],
   "source": [
    "# Single Line comment\n",
    "# Multiple line comment\n",
    "'''\n",
    "Welcome to my youtube\n",
    "channel\n",
    "\n",
    "'''\n",
    "print(\"Hello\")"
   ]
  },
  {
   "cell_type": "code",
   "execution_count": 84,
   "id": "f21ddd56-106d-425b-9701-b3f2e82b46cb",
   "metadata": {},
   "outputs": [
    {
     "data": {
      "text/plain": [
       "str"
      ]
     },
     "execution_count": 84,
     "metadata": {},
     "output_type": "execute_result"
    }
   ],
   "source": [
    "# Variable declaration\n",
    "a=10\n",
    "b=40\n",
    "c=\"krish\"\n",
    "type(c)"
   ]
  },
  {
   "cell_type": "code",
   "execution_count": 85,
   "id": "c6f87481-f359-4e4f-81ae-f3b62d7ec0a9",
   "metadata": {},
   "outputs": [
    {
     "name": "stdout",
     "output_type": "stream",
     "text": [
      "20\n",
      "100\n",
      "1.0\n",
      "0\n"
     ]
    },
    {
     "data": {
      "text/plain": [
       "int"
      ]
     },
     "execution_count": 85,
     "metadata": {},
     "output_type": "execute_result"
    }
   ],
   "source": [
    "# integer and arrithmatic Operation \n",
    "a=10\n",
    "print(a+10)\n",
    "print(a*10)\n",
    "print(a/10)\n",
    "print(a%10)\n",
    "type(a)"
   ]
  },
  {
   "cell_type": "code",
   "execution_count": 86,
   "id": "25cc1d95-5d45-459d-a121-9048c390d353",
   "metadata": {},
   "outputs": [
    {
     "name": "stdout",
     "output_type": "stream",
     "text": [
      "<class 'float'>\n",
      "<class 'int'>\n"
     ]
    }
   ],
   "source": [
    "# floating and type casting \n",
    "a=190.5\n",
    "print(type(a))\n",
    "\n",
    "b = int(a)\n",
    "print(type(b))"
   ]
  },
  {
   "cell_type": "code",
   "execution_count": 87,
   "id": "2a90a1e9-b9e9-46b3-9348-27308e3fbb26",
   "metadata": {},
   "outputs": [
    {
     "name": "stdout",
     "output_type": "stream",
     "text": [
      "<class 'bool'>\n"
     ]
    }
   ],
   "source": [
    "# boolean\n",
    "a1=True\n",
    "b1=False\n",
    "\n",
    "print(type(a1))"
   ]
  },
  {
   "cell_type": "code",
   "execution_count": 88,
   "id": "e9a9ea13-965e-47ea-8179-9c8cf9f22618",
   "metadata": {},
   "outputs": [
    {
     "name": "stdout",
     "output_type": "stream",
     "text": [
      "Abu Salaho \n",
      "<class 'str'>\n"
     ]
    }
   ],
   "source": [
    "#strings\n",
    "name=\"Abu Salaho \"\n",
    "\n",
    "print(name)\n",
    "print(type(name))"
   ]
  },
  {
   "cell_type": "code",
   "execution_count": 89,
   "id": "437ce9b9-4b10-4d00-931c-21fd3e28aa8b",
   "metadata": {},
   "outputs": [
    {
     "name": "stdout",
     "output_type": "stream",
     "text": [
      "Abu Salaho As Samman\n",
      "Abu Salaho 1\n"
     ]
    }
   ],
   "source": [
    "# String join \n",
    "print(name + \"As Samman\")\n",
    "print(name + str(1))"
   ]
  },
  {
   "cell_type": "code",
   "execution_count": 90,
   "id": "7795b6b3-da6c-4d10-a896-1d56bf3e0064",
   "metadata": {},
   "outputs": [
    {
     "name": "stdout",
     "output_type": "stream",
     "text": [
      "(1-2.3j)\n",
      "1.0 -2.3\n"
     ]
    }
   ],
   "source": [
    "# complex numbers\n",
    "j=1.0-2.3j\n",
    "print(j)\n",
    "print(j.real, j.imag)"
   ]
  },
  {
   "cell_type": "code",
   "execution_count": 91,
   "id": "c872b364-c2d9-497c-88e5-ca2781311a7f",
   "metadata": {},
   "outputs": [
    {
     "name": "stdout",
     "output_type": "stream",
     "text": [
      "<class 'str'>\n"
     ]
    }
   ],
   "source": [
    "# dynamic Typing ( Which means it convert the type when reassign )\n",
    "a=10\n",
    "a=\"Abu Salaho\"\n",
    "print(type(a))"
   ]
  },
  {
   "cell_type": "code",
   "execution_count": 92,
   "id": "d502673c-d38a-4ad9-9274-91ae9d9914f5",
   "metadata": {},
   "outputs": [
    {
     "name": "stdout",
     "output_type": "stream",
     "text": [
      "The values is -  100\n"
     ]
    }
   ],
   "source": [
    "# string Formatting\n",
    "a=100\n",
    "print(\"The values is - \",a)"
   ]
  },
  {
   "cell_type": "code",
   "execution_count": 93,
   "id": "ecc8164a-fc15-40ce-9e6d-0d66655a6877",
   "metadata": {},
   "outputs": [
    {
     "name": "stdout",
     "output_type": "stream",
     "text": [
      "The first name is Abu Salaho and last name is As Samman\n"
     ]
    }
   ],
   "source": [
    "# string formating\n",
    "name=\"Abu Salaho\"\n",
    "optional=\"As Samman\"\n",
    "print(\"The first name is {a} and last name is {b}\".format(b=optional,a=name))"
   ]
  },
  {
   "cell_type": "code",
   "execution_count": 94,
   "id": "1e03fd5a-a24a-493d-bba4-27c26d13a0c5",
   "metadata": {},
   "outputs": [
    {
     "name": "stdout",
     "output_type": "stream",
     "text": [
      "My Name is Abu Salaho As Samman\n"
     ]
    }
   ],
   "source": [
    "# string formating\n",
    "name=\"Abu Salaho\"\n",
    "optional=\"As Samman\"\n",
    "print(\"My Name is {} {}\".format(name, optional))"
   ]
  },
  {
   "cell_type": "code",
   "execution_count": 95,
   "id": "a749c564-44ba-4d1d-b55d-c367822a502d",
   "metadata": {},
   "outputs": [
    {
     "name": "stdin",
     "output_type": "stream",
     "text": [
      "Enter the number A  12\n",
      "enter the number B  12\n"
     ]
    },
    {
     "name": "stdout",
     "output_type": "stream",
     "text": [
      "24\n"
     ]
    }
   ],
   "source": [
    "# input type\n",
    "a=input(\"Enter the number A \")\n",
    "b=input(\"enter the number B \") \n",
    "print(int(a)+int(b))"
   ]
  },
  {
   "cell_type": "markdown",
   "id": "71d4f0dd-ffc6-4024-9ce7-8762d612cf31",
   "metadata": {
    "jp-MarkdownHeadingCollapsed": true
   },
   "source": [
    "### Control Flow"
   ]
  },
  {
   "cell_type": "code",
   "execution_count": 96,
   "id": "a250cba3-b3c4-43cb-8e3f-a9cf094bdc18",
   "metadata": {},
   "outputs": [
    {
     "data": {
      "text/plain": [
       "True"
      ]
     },
     "execution_count": 96,
     "metadata": {},
     "output_type": "execute_result"
    }
   ],
   "source": [
    "10%3!=0"
   ]
  },
  {
   "cell_type": "code",
   "execution_count": 97,
   "id": "ab8f9a68-b178-4bec-bfb6-99a46b7e1553",
   "metadata": {},
   "outputs": [
    {
     "name": "stdin",
     "output_type": "stream",
     "text": [
      "Enter the number  12\n"
     ]
    },
    {
     "name": "stdout",
     "output_type": "stream",
     "text": [
      "This number is even\n"
     ]
    }
   ],
   "source": [
    "# if else statement\n",
    "value = input(\"Enter the number \")\n",
    "value = int(value)\n",
    "if(value%2==0):\n",
    "    print(\"This number is even\")\n",
    "else:\n",
    "    print(\"This Number is odd\")"
   ]
  },
  {
   "cell_type": "code",
   "execution_count": 98,
   "id": "52e3ac8d-5c8e-4375-973e-5495b6c37956",
   "metadata": {},
   "outputs": [
    {
     "name": "stdin",
     "output_type": "stream",
     "text": [
      "Enter the age 23\n"
     ]
    },
    {
     "name": "stdout",
     "output_type": "stream",
     "text": [
      "Mid Age\n"
     ]
    }
   ],
   "source": [
    "# if else elif condition\n",
    "age=float(input(\"Enter the age\"))\n",
    "\n",
    "if(age<18):\n",
    "    print(\"Minor Age\")\n",
    "elif(age>=18 and age<=45):\n",
    "    print(\"Mid Age\")\n",
    "elif(age>45 and age<=50):\n",
    "    print(\"Senior Mid Age\")\n",
    "else: \n",
    "    print(\"Senior Citizen\")"
   ]
  },
  {
   "cell_type": "code",
   "execution_count": 99,
   "id": "f38e2150-8bc3-4a68-9e89-33aa650a5122",
   "metadata": {},
   "outputs": [
    {
     "name": "stdin",
     "output_type": "stream",
     "text": [
      "Enter the age 34\n"
     ]
    },
    {
     "name": "stdout",
     "output_type": "stream",
     "text": [
      "Mid Age\n",
      "What is your career goal\n"
     ]
    }
   ],
   "source": [
    "# nested iflese\n",
    "age=int(input(\"Enter the age\"))\n",
    "\n",
    "if(age<18):\n",
    "    print(\"Minor Age\")\n",
    "    if(age<15):\n",
    "        print(\"You are in School\")\n",
    "    else:\n",
    "        print(\"You are in College\")\n",
    "elif(age>=18 and age<=35):\n",
    "    print(\"Mid Age\")\n",
    "    if(age>25):\n",
    "        print(\"What is your career goal\")\n",
    "elif(age>35 and age<=50):\n",
    "    print(\"Senior Mid Age\")\n",
    "    if(age>45):\n",
    "        print(\"You are about to retaired\")\n",
    "else: \n",
    "    print(\"Senior Citizen\")"
   ]
  },
  {
   "cell_type": "code",
   "execution_count": 100,
   "id": "6fe6121a-d2e1-4fe5-809e-59eb30bf507d",
   "metadata": {},
   "outputs": [
    {
     "name": "stdout",
     "output_type": "stream",
     "text": [
      "1\n",
      "4\n",
      "9\n",
      "16\n",
      "25\n",
      "36\n",
      "49\n"
     ]
    }
   ],
   "source": [
    "# for loop statement\n",
    "lst=[1,2,3,4,5,6,7]\n",
    "for i in lst:\n",
    "    print(i**2)"
   ]
  },
  {
   "cell_type": "code",
   "execution_count": 101,
   "id": "4c537d0d-40f6-4502-bf31-f8966bfa9ec9",
   "metadata": {},
   "outputs": [
    {
     "name": "stdout",
     "output_type": "stream",
     "text": [
      "28\n"
     ]
    }
   ],
   "source": [
    "# find the sum of all the elements in the list\n",
    "lst=[1,2,3,4,5,6,7]\n",
    "sum=0\n",
    "for i in lst:\n",
    "    sum=sum+i\n",
    "    \n",
    "print(sum)"
   ]
  },
  {
   "cell_type": "code",
   "execution_count": 102,
   "id": "9208236a-1de1-4467-8f42-794b47641b7d",
   "metadata": {},
   "outputs": [
    {
     "name": "stdout",
     "output_type": "stream",
     "text": [
      "30 25\n"
     ]
    }
   ],
   "source": [
    "# while condition\n",
    "i=0\n",
    "even_sum=0\n",
    "odd_sum=0\n",
    "while(i<=10):\n",
    "    \n",
    "    if(i%2==0):\n",
    "        even_sum=even_sum+i\n",
    "    else:\n",
    "        odd_sum=odd_sum+i\n",
    "        \n",
    "    i=i+1\n",
    "print(even_sum,odd_sum)"
   ]
  },
  {
   "cell_type": "code",
   "execution_count": 103,
   "id": "77fdbe3e-e1f3-4a6f-a671-6345643d2deb",
   "metadata": {},
   "outputs": [
    {
     "name": "stdout",
     "output_type": "stream",
     "text": [
      "1\n",
      "2\n",
      "3\n"
     ]
    }
   ],
   "source": [
    "# break statement \n",
    "x=1\n",
    "while(x<7):\n",
    "    \n",
    "    if x==4:\n",
    "        break\n",
    "    print(x)\n",
    "    x=x+1"
   ]
  },
  {
   "cell_type": "code",
   "execution_count": 104,
   "id": "e7feb839-b5e3-459f-b5b1-de469aef85b2",
   "metadata": {},
   "outputs": [
    {
     "name": "stdout",
     "output_type": "stream",
     "text": [
      "1\n",
      "2\n",
      "3\n",
      "5\n"
     ]
    }
   ],
   "source": [
    "# continue statement\n",
    "x=0\n",
    "while x<5:\n",
    "    x=x+1\n",
    "    if x==4:\n",
    "        continue\n",
    "    print(x)"
   ]
  },
  {
   "cell_type": "markdown",
   "id": "b0f2e8ac-440f-4e1f-8a5a-e48335a99c31",
   "metadata": {
    "jp-MarkdownHeadingCollapsed": true
   },
   "source": [
    "### Operators\n",
    "* Logical\n",
    "* Equality\n",
    "* Comparision\n",
    "* Arithmetic"
   ]
  },
  {
   "cell_type": "code",
   "execution_count": 105,
   "id": "98e6c13d-f4d1-4212-9e52-788c428d69b6",
   "metadata": {},
   "outputs": [
    {
     "name": "stdout",
     "output_type": "stream",
     "text": [
      "<class 'bool'>\n",
      "False\n",
      "True\n",
      "True\n"
     ]
    }
   ],
   "source": [
    "# logical Operator \n",
    "print(type(False))\n",
    "print(True and False)\n",
    "print(True or False)\n",
    "print(not False)"
   ]
  },
  {
   "cell_type": "code",
   "execution_count": 106,
   "id": "9e4bef40-c99b-438f-a186-33abd726e248",
   "metadata": {},
   "outputs": [
    {
     "name": "stdin",
     "output_type": "stream",
     "text": [
      "Enter the age 17\n"
     ]
    },
    {
     "name": "stdout",
     "output_type": "stream",
     "text": [
      "Successful execution\n"
     ]
    }
   ],
   "source": [
    "# logical operator\n",
    "age=int(input(\"Enter the age\"))\n",
    "if age<18 or age>=35:\n",
    "    print(\"Successful execution\")"
   ]
  },
  {
   "cell_type": "code",
   "execution_count": 107,
   "id": "600cde6e-c2cd-4d36-afdb-76da0660ed9b",
   "metadata": {},
   "outputs": [
    {
     "name": "stdout",
     "output_type": "stream",
     "text": [
      "1404371825776\n",
      "1404371825776\n",
      "Both memory address is same\n"
     ]
    }
   ],
   "source": [
    "# id means location of memory\n",
    "a=\"samman\"\n",
    "b=\"samman\"\n",
    "print(id(a))\n",
    "print(id(b))\n",
    "\n",
    "if id(a)==id(b):\n",
    "    print(\"Both memory address is same\")"
   ]
  },
  {
   "cell_type": "code",
   "execution_count": 108,
   "id": "61ec3160-c323-4cc6-8aa7-dbb9eb52d9bd",
   "metadata": {},
   "outputs": [
    {
     "name": "stdout",
     "output_type": "stream",
     "text": [
      "1404377769408\n",
      "1404377716544\n"
     ]
    },
    {
     "data": {
      "text/plain": [
       "False"
      ]
     },
     "execution_count": 108,
     "metadata": {},
     "output_type": "execute_result"
    }
   ],
   "source": [
    "# in terms of collection it is not same \n",
    "lst=[1,2,3,4,5]\n",
    "lst1=[1,2,3,4,5]\n",
    "print(id(lst))\n",
    "print(id(lst1))\n",
    "\n",
    "lst is lst1"
   ]
  },
  {
   "cell_type": "code",
   "execution_count": 109,
   "id": "03660376-4660-42ca-803d-3e5be777e9b9",
   "metadata": {},
   "outputs": [
    {
     "name": "stdin",
     "output_type": "stream",
     "text": [
      "Enter the marks 40\n"
     ]
    },
    {
     "name": "stdout",
     "output_type": "stream",
     "text": [
      "Pass\n"
     ]
    }
   ],
   "source": [
    "# comparison operator\n",
    "marks= float(input(\"Enter the marks\"))\n",
    "\n",
    "if marks>=40:\n",
    "    print(\"Pass\")\n",
    "    if marks>=50 and marks<=70:\n",
    "        print(\"First\")\n",
    "elif marks<40:\n",
    "    print(\"Fail\")"
   ]
  },
  {
   "cell_type": "code",
   "execution_count": null,
   "id": "e1ecf735-64fe-4099-9533-380f8592a428",
   "metadata": {},
   "outputs": [],
   "source": [
    "## Numbers"
   ]
  },
  {
   "cell_type": "code",
   "execution_count": 110,
   "id": "d8798555-df63-4e78-9a14-974bcd4d8f92",
   "metadata": {},
   "outputs": [
    {
     "name": "stdout",
     "output_type": "stream",
     "text": [
      "10\n",
      "10\n",
      "10.34\n",
      "10.57\n"
     ]
    }
   ],
   "source": [
    "# absulate value\n",
    "print(abs(10))\n",
    "print(abs(-10))\n",
    "print(abs(10.34))\n",
    "print(abs(-10.57))"
   ]
  },
  {
   "cell_type": "code",
   "execution_count": 111,
   "id": "00a4366e-b4ff-48d0-9c85-d91c531a35a2",
   "metadata": {},
   "outputs": [
    {
     "name": "stdout",
     "output_type": "stream",
     "text": [
      "32\n",
      "-31\n"
     ]
    }
   ],
   "source": [
    "# celing value\n",
    "import math\n",
    "print(math.ceil(31.4))\n",
    "print(math.ceil(-31.4))"
   ]
  },
  {
   "cell_type": "code",
   "execution_count": 112,
   "id": "ff9aab61-3f49-4e51-ac57-3baa74be2b7f",
   "metadata": {},
   "outputs": [
    {
     "name": "stdout",
     "output_type": "stream",
     "text": [
      "43\n"
     ]
    },
    {
     "data": {
      "text/plain": [
       "-57"
      ]
     },
     "execution_count": 112,
     "metadata": {},
     "output_type": "execute_result"
    }
   ],
   "source": [
    "# floor value\n",
    "print(math.floor(43.1))\n",
    "math.floor(-56.9)"
   ]
  },
  {
   "cell_type": "code",
   "execution_count": 113,
   "id": "b13a6c2e-c01e-4ba8-9d1c-342e7efe6ef5",
   "metadata": {},
   "outputs": [
    {
     "name": "stdout",
     "output_type": "stream",
     "text": [
      "22026.465794806718\n",
      "4.5399929762484854e-05\n"
     ]
    }
   ],
   "source": [
    "#  exp value\n",
    "print(math.exp(10))\n",
    "print(math.exp(-10))"
   ]
  },
  {
   "cell_type": "code",
   "execution_count": 114,
   "id": "b42e327b-8537-4b19-b3d5-e8da13c1c1d8",
   "metadata": {},
   "outputs": [
    {
     "name": "stdout",
     "output_type": "stream",
     "text": [
      "10.53\n",
      "10.53\n"
     ]
    }
   ],
   "source": [
    "# fab value\n",
    "print(math.fabs(10.53))\n",
    "print(math.fabs(-10.53))"
   ]
  },
  {
   "cell_type": "code",
   "execution_count": 115,
   "id": "3db69945-d12b-4a54-b3b0-84394067a884",
   "metadata": {},
   "outputs": [
    {
     "name": "stdout",
     "output_type": "stream",
     "text": [
      "2.302585092994046\n",
      "4.02535169073515\n",
      "1.0\n"
     ]
    }
   ],
   "source": [
    "# log value base 2\n",
    "print(math.log(10))\n",
    "print(math.log(56))\n",
    "print(math.log10(10))"
   ]
  },
  {
   "cell_type": "code",
   "execution_count": 116,
   "id": "5682414e-a669-48fe-b9c8-97c9826149f2",
   "metadata": {},
   "outputs": [
    {
     "name": "stdout",
     "output_type": "stream",
     "text": [
      "100\n",
      "0\n",
      "3200000.0\n",
      "-0.00032\n",
      "4.0\n"
     ]
    }
   ],
   "source": [
    "# max, min, power, sqrt\n",
    "print(max(10,12,5,76,100))\n",
    "print(min(0,100,4,5,6,3))\n",
    "print(math.pow(20,5))\n",
    "print(math.pow(-5,-5))\n",
    "print(math.sqrt(16))"
   ]
  },
  {
   "cell_type": "code",
   "execution_count": 117,
   "id": "faf0ff4f-ccf9-4537-8b79-f5668bf22c1c",
   "metadata": {},
   "outputs": [
    {
     "name": "stdout",
     "output_type": "stream",
     "text": [
      "-0.4480736161291701\n",
      "1.6197751905438615\n",
      "0.0\n"
     ]
    }
   ],
   "source": [
    "# trigonmetry function \n",
    "print(math.cos(90))\n",
    "print(math.tan(45))\n",
    "print(math.sin(0))"
   ]
  },
  {
   "cell_type": "code",
   "execution_count": 118,
   "id": "0b2c753f-f967-4ca0-ae4f-12e6b827c787",
   "metadata": {},
   "outputs": [
    {
     "name": "stdout",
     "output_type": "stream",
     "text": [
      "3.605551275463989\n"
     ]
    }
   ],
   "source": [
    "# sqrt of a squere plus b squere\n",
    "print(math.hypot(2,3))"
   ]
  },
  {
   "cell_type": "code",
   "execution_count": 119,
   "id": "ee66fc0e-8785-479d-910d-3550a9b32be3",
   "metadata": {},
   "outputs": [
    {
     "data": {
      "text/plain": [
       "(0.0, 125.0)"
      ]
     },
     "execution_count": 119,
     "metadata": {},
     "output_type": "execute_result"
    }
   ],
   "source": [
    "# Program to check prime numbers\n",
    "math.modf(125)"
   ]
  },
  {
   "cell_type": "code",
   "execution_count": 122,
   "id": "5cea1303-cc15-42f4-8318-8a282f12560e",
   "metadata": {},
   "outputs": [
    {
     "name": "stdout",
     "output_type": "stream",
     "text": [
      "True\n",
      "False\n",
      "False\n",
      "True\n",
      "False\n",
      "False\n",
      "False\n",
      "True\n",
      "False\n"
     ]
    }
   ],
   "source": [
    "my_str='Samman1234'\n",
    "print(my_str.isalnum()) #check if all char are numbers\n",
    "print(my_str.isalpha()) #check if all char in the string are alphabetic\n",
    "print(my_str.isdigit()) #test if string contains digits\n",
    "print(my_str.istitle()) #test if string contains title words\n",
    "print(my_str.isupper()) #test if string contains upper case\n",
    "print(my_str.islower()) #test if string contains lower case\n",
    "print(my_str.isspace()) #test if string contains spaces\n",
    "print(my_str.endswith('4')) #test if string endswith a d\n",
    "print(my_str.startswith('s')) #test if string startswith H"
   ]
  },
  {
   "cell_type": "markdown",
   "id": "c1793181-252f-4d63-8e16-c0516c872133",
   "metadata": {
    "jp-MarkdownHeadingCollapsed": true
   },
   "source": [
    "## Collection\n",
    "* list\n",
    "* dictonary\n",
    "* tuple\n",
    "* set"
   ]
  },
  {
   "cell_type": "markdown",
   "id": "4c6afa20-6b16-4873-af87-8e91f746c88e",
   "metadata": {},
   "source": [
    "### Feature of list \n",
    "*  mutable\n",
    "* changeable\n",
    "* ordered"
   ]
  },
  {
   "cell_type": "code",
   "execution_count": 134,
   "id": "0cf9e451-64b0-4b0d-997c-95b82d07c5bb",
   "metadata": {},
   "outputs": [
    {
     "name": "stdout",
     "output_type": "stream",
     "text": [
      "[1, 2, 3, 4.49, 'samman', 'Helllo', True, False]\n",
      "Abu Salaho\n"
     ]
    }
   ],
   "source": [
    "# list \n",
    "lst=[1,2,3,4.49,\"samman\",\"Helllo\",True, False]\n",
    "print(lst)\n",
    "lst[4]=\"Abu Salaho\"\n",
    "print(lst[4])"
   ]
  },
  {
   "cell_type": "code",
   "execution_count": 135,
   "id": "e39b7cf9-ed6a-48f2-b0de-0e2877449e5a",
   "metadata": {},
   "outputs": [
    {
     "name": "stdout",
     "output_type": "stream",
     "text": [
      "1\n",
      "4\n",
      "9\n",
      "16\n",
      "25\n"
     ]
    }
   ],
   "source": [
    "# list \n",
    "lst=[1,2,3,4,5]\n",
    "for i in lst:\n",
    "    print(i**2)"
   ]
  },
  {
   "cell_type": "code",
   "execution_count": 1,
   "id": "38a5a195-d2c1-46d3-8941-fdcca32bb040",
   "metadata": {},
   "outputs": [
    {
     "name": "stdout",
     "output_type": "stream",
     "text": [
      "[0, 1, 2, 3, 4, 5, 6, 7]\n"
     ]
    }
   ],
   "source": [
    "# create a list using python function \n",
    "lst=[]\n",
    "for i in range(0,8):\n",
    "    lst.append(i)\n",
    "    \n",
    "print(lst)"
   ]
  },
  {
   "cell_type": "code",
   "execution_count": null,
   "id": "637c283f-549d-4d52-937f-535301fac94c",
   "metadata": {},
   "outputs": [],
   "source": [
    "# create a list using function\n",
    "numbers=[1,2,3,4,5]\n",
    "squard_numbers=[i**2 for i in numbers]\n",
    "print(squard_numbers)"
   ]
  },
  {
   "cell_type": "code",
   "execution_count": 2,
   "id": "d28acfe9-3534-43c1-99a8-77e9b5a1f3c4",
   "metadata": {},
   "outputs": [
    {
     "name": "stdout",
     "output_type": "stream",
     "text": [
      "[2, 4, 6, 8, 10]\n"
     ]
    }
   ],
   "source": [
    "# filtering even numbers from a list:\n",
    "numbers = [1, 2, 3, 4, 5, 6, 7, 8, 9, 10]\n",
    "even_number=[n for n in numbers if n%2==0]\n",
    "print(even_number)"
   ]
  },
  {
   "cell_type": "code",
   "execution_count": 3,
   "id": "b35d5c71-f76d-4a5b-9916-0c010ba8c67d",
   "metadata": {},
   "outputs": [
    {
     "data": {
      "text/plain": [
       "[1, 2, 3, 4, 5, 6, 7, 8, 9]"
      ]
     },
     "execution_count": 3,
     "metadata": {},
     "output_type": "execute_result"
    }
   ],
   "source": [
    "# flattening a list of lists: 2 for loops\n",
    "lists = [[1, 2, 3], [4, 5, 6], [7, 8, 9]]\n",
    "ftlattend_list=[item for sublist in lists for item in sublist]\n",
    "ftlattend_list"
   ]
  },
  {
   "cell_type": "code",
   "execution_count": 4,
   "id": "412fb052-582c-4e1d-a135-36f66bbdc09b",
   "metadata": {},
   "outputs": [
    {
     "name": "stdout",
     "output_type": "stream",
     "text": [
      "['a', 'b', 'c', 'd']\n"
     ]
    }
   ],
   "source": [
    "# generating a list of the first letters of words in a list:\n",
    "words = ['apple', 'banana', 'cherry', 'date']\n",
    "first_letters=[word[0] for word in words]\n",
    "print(first_letters)"
   ]
  },
  {
   "cell_type": "code",
   "execution_count": 5,
   "id": "dd670064-a90c-4992-be51-636185a31e0f",
   "metadata": {},
   "outputs": [
    {
     "data": {
      "text/plain": [
       "[4, 16, 36, 64, 100]"
      ]
     },
     "execution_count": 5,
     "metadata": {},
     "output_type": "execute_result"
    }
   ],
   "source": [
    "# generating a list of the squares of even numbers\n",
    "numbers = [1, 2, 3, 4, 5, 6, 7, 8, 9, 10]\n",
    "[n**2 for n in numbers if n%2==0]"
   ]
  },
  {
   "cell_type": "code",
   "execution_count": 6,
   "id": "9d127397-f966-4f13-a048-6d0ef4d5d6b2",
   "metadata": {},
   "outputs": [
    {
     "data": {
      "text/plain": [
       "[1, 2, 3, 4, 5]"
      ]
     },
     "execution_count": 6,
     "metadata": {},
     "output_type": "execute_result"
    }
   ],
   "source": [
    "# converting a list of strings to a list of integers\n",
    "strings = ['1', '2', '3', '4', '5']\n",
    "[int(s) for s in strings]"
   ]
  },
  {
   "cell_type": "code",
   "execution_count": null,
   "id": "19cb6a01-0eb9-4d44-a86f-efd06ec62b6e",
   "metadata": {},
   "outputs": [],
   "source": [
    "# generating a list of all the divisors of a number:\n",
    "\n",
    "number =36\n",
    "[i for i in range(1,number+1) if number%i==0]"
   ]
  },
  {
   "cell_type": "code",
   "execution_count": 7,
   "id": "4712cccc-4fbd-4cca-be7e-beec02eb814f",
   "metadata": {},
   "outputs": [
    {
     "data": {
      "text/plain": [
       "[1,\n",
       " 2,\n",
       " 3,\n",
       " 5,\n",
       " 8,\n",
       " 13,\n",
       " 21,\n",
       " 34,\n",
       " 55,\n",
       " 89,\n",
       " 144,\n",
       " 233,\n",
       " 377,\n",
       " 610,\n",
       " 987,\n",
       " 1597,\n",
       " 2584,\n",
       " 4181,\n",
       " 6765]"
      ]
     },
     "execution_count": 7,
     "metadata": {},
     "output_type": "execute_result"
    }
   ],
   "source": [
    "# generating a list of the Fibonacci sequence using a list comprehension\n",
    "fib = [0, 1, 1, 2, 3, 5, 8, 13, 21, 34, 55, 89, 144, 233, 377, 610, 987, 1597, 2584, 4181, 6765]\n",
    "\n",
    "[fib[i-1]+ fib[i-2] for i in range(2,len(fib))]"
   ]
  },
  {
   "cell_type": "code",
   "execution_count": 136,
   "id": "b7173202-82ae-451b-9555-fb3161b281b4",
   "metadata": {},
   "outputs": [
    {
     "name": "stdout",
     "output_type": "stream",
     "text": [
      "<class 'list'>\n"
     ]
    },
    {
     "data": {
      "text/plain": [
       "0"
      ]
     },
     "execution_count": 136,
     "metadata": {},
     "output_type": "execute_result"
    }
   ],
   "source": [
    "# null list initialized \n",
    "lst=list()\n",
    "print(type(lst))\n",
    "len(lst)"
   ]
  },
  {
   "cell_type": "code",
   "execution_count": 137,
   "id": "11f57c4b-bb57-4cb5-ac3f-2abe05c641f4",
   "metadata": {},
   "outputs": [
    {
     "name": "stdout",
     "output_type": "stream",
     "text": [
      "[1, 2, 3, 4, 5, 'samman']\n"
     ]
    },
    {
     "data": {
      "text/plain": [
       "[3, 4, 5, 'samman', ['John', 'Bala']]"
      ]
     },
     "execution_count": 137,
     "metadata": {},
     "output_type": "execute_result"
    }
   ],
   "source": [
    "# append function \n",
    "lst=[1,2,3,4,5]\n",
    "lst.append(\"samman\")\n",
    "print(lst)\n",
    "lst.append([\"John\",\"Bala\"])\n",
    "lst[2:7]"
   ]
  },
  {
   "cell_type": "code",
   "execution_count": 138,
   "id": "70658e2e-e8c5-4c73-8405-94c892732409",
   "metadata": {},
   "outputs": [
    {
     "name": "stdout",
     "output_type": "stream",
     "text": [
      "[1, 2, 'ss', 3, 4, 5, 'samman', ['John', 'Bala']]\n"
     ]
    }
   ],
   "source": [
    "# insert function \n",
    "lst.insert(2,\"ss\")\n",
    "print(lst)"
   ]
  },
  {
   "cell_type": "code",
   "execution_count": 139,
   "id": "024a2d1c-b432-4f71-9ecd-12bced75a793",
   "metadata": {},
   "outputs": [
    {
     "name": "stdout",
     "output_type": "stream",
     "text": [
      "[1, 2, 'ss', 3, 4, 5, 'samman', ['John', 'Bala'], 8, 9]\n"
     ]
    }
   ],
   "source": [
    "# extend function \n",
    "lst.extend([8,9])\n",
    "print(lst)"
   ]
  },
  {
   "cell_type": "code",
   "execution_count": 144,
   "id": "467203ef-6200-4a79-894f-80a223758465",
   "metadata": {},
   "outputs": [
    {
     "name": "stdout",
     "output_type": "stream",
     "text": [
      "[1, 2, 3, 4, 5, 1, 2, 3, 4, 5, 1, 2, 3, 4, 5, 1, 2, 3, 4, 5, 1, 2, 3, 4, 5]\n",
      "----\n",
      "0.2\n",
      "0.4\n",
      "0.6\n",
      "0.8\n",
      "1.0\n"
     ]
    }
   ],
   "source": [
    "# operation in list \n",
    "lst=[1,2,3,4,5]\n",
    "print(lst*5)\n",
    "print(\"----\")\n",
    "for i in lst:\n",
    "    print(i/5)"
   ]
  },
  {
   "cell_type": "code",
   "execution_count": 146,
   "id": "f4ba687f-0028-4eb4-9c5e-2f1ea96d394a",
   "metadata": {},
   "outputs": [
    {
     "data": {
      "text/plain": [
       "['John', 'Bala']"
      ]
     },
     "execution_count": 146,
     "metadata": {},
     "output_type": "execute_result"
    }
   ],
   "source": [
    "# pop function\n",
    "lst = [3, 4, 5, 'samman', ['John', 'Bala']]\n",
    "lst.pop()"
   ]
  },
  {
   "cell_type": "code",
   "execution_count": 147,
   "id": "f8f130e5-4acd-459d-bbfc-82bda7318a5f",
   "metadata": {},
   "outputs": [
    {
     "name": "stdout",
     "output_type": "stream",
     "text": [
      "[3, 4, 'samman']\n"
     ]
    }
   ],
   "source": [
    "lst.pop(2)\n",
    "print(lst)"
   ]
  },
  {
   "cell_type": "code",
   "execution_count": 148,
   "id": "60478dc9-2fd9-4fe0-9f78-bfd7dcda8d6c",
   "metadata": {},
   "outputs": [
    {
     "name": "stdout",
     "output_type": "stream",
     "text": [
      "2\n",
      "6\n",
      "1\n",
      "1\n",
      "5\n"
     ]
    }
   ],
   "source": [
    "# different operation in list\n",
    "lst=[1,1,2,3,4,5]\n",
    "print(lst.count(1))\n",
    "print(len(lst))\n",
    "print(lst.index(1,1,4))\n",
    "print(min(lst))\n",
    "print(max(lst))"
   ]
  },
  {
   "cell_type": "markdown",
   "id": "ad79237a-2873-4b92-a7fa-533219fd59bd",
   "metadata": {
    "jp-MarkdownHeadingCollapsed": true
   },
   "source": [
    "### Feature of set \n",
    "* unorderd collection \n",
    "* iterable\n",
    "* mutable\n",
    "* no duplicate elements"
   ]
  },
  {
   "cell_type": "code",
   "execution_count": 150,
   "id": "54cdc6aa-00ed-4028-8681-bb2bfd9ce0b4",
   "metadata": {},
   "outputs": [
    {
     "name": "stdout",
     "output_type": "stream",
     "text": [
      "0\n",
      "<class 'set'>\n"
     ]
    }
   ],
   "source": [
    "# Defining an empy set\n",
    "set_var= set()\n",
    "print(len(set_var))\n",
    "print(type(set_var))"
   ]
  },
  {
   "cell_type": "code",
   "execution_count": 151,
   "id": "a70b6d77-c9b4-4122-a5d5-8f3f74635bd6",
   "metadata": {},
   "outputs": [
    {
     "data": {
      "text/plain": [
       "{1, 2, 3, 4}"
      ]
     },
     "execution_count": 151,
     "metadata": {},
     "output_type": "execute_result"
    }
   ],
   "source": [
    "# print set value\n",
    "set_var={1,2,3,4,3}\n",
    "set_var"
   ]
  },
  {
   "cell_type": "code",
   "execution_count": 153,
   "id": "3f0853e6-462c-481f-8614-948e26527e7b",
   "metadata": {},
   "outputs": [
    {
     "name": "stdout",
     "output_type": "stream",
     "text": [
      "{'Avengers', 'Hitman', 'IronMan'}\n"
     ]
    },
    {
     "data": {
      "text/plain": [
       "set"
      ]
     },
     "execution_count": 153,
     "metadata": {},
     "output_type": "execute_result"
    }
   ],
   "source": [
    "set_var={\"Avengers\",\"IronMan\",'Hitman'}\n",
    "print(set_var)\n",
    "type(set_var)"
   ]
  },
  {
   "cell_type": "code",
   "execution_count": 154,
   "id": "6b61eb2c-0d41-4060-82ef-e19d251cfcc5",
   "metadata": {},
   "outputs": [
    {
     "name": "stdout",
     "output_type": "stream",
     "text": [
      "{'Hulk', 'Avengers', 'Hitman', 'IronMan'}\n"
     ]
    }
   ],
   "source": [
    "# add function \n",
    "set_var.add(\"Hulk\")\n",
    "print(set_var)"
   ]
  },
  {
   "cell_type": "code",
   "execution_count": 164,
   "id": "698c0691-bfe4-41bd-a926-c491596778b9",
   "metadata": {},
   "outputs": [],
   "source": [
    "set1={\"Avengers\",\"IronMan\",'Hitman'}\n",
    "set2={\"Avengers\",\"IronMan\",'Hitman','Hulk2'}"
   ]
  },
  {
   "cell_type": "code",
   "execution_count": 165,
   "id": "079df1dc-6254-4b45-a81f-b58c130b2cea",
   "metadata": {},
   "outputs": [
    {
     "data": {
      "text/plain": [
       "{'Avengers', 'Hitman', 'IronMan'}"
      ]
     },
     "execution_count": 165,
     "metadata": {},
     "output_type": "execute_result"
    }
   ],
   "source": [
    "# intersection \n",
    "set2.intersection_update(set1)\n",
    "set2"
   ]
  },
  {
   "cell_type": "code",
   "execution_count": 166,
   "id": "697220bb-7460-4ec6-b383-3dfe55023a24",
   "metadata": {},
   "outputs": [
    {
     "name": "stdout",
     "output_type": "stream",
     "text": [
      "set()\n"
     ]
    }
   ],
   "source": [
    "# Difference \n",
    "d = set1.difference(set2)\n",
    "print(d)"
   ]
  },
  {
   "cell_type": "code",
   "execution_count": 167,
   "id": "55265ecf-2f9b-4c2c-82dc-e0c728a93ba2",
   "metadata": {},
   "outputs": [
    {
     "name": "stdout",
     "output_type": "stream",
     "text": [
      "set()\n"
     ]
    }
   ],
   "source": [
    "# Difference update\n",
    "set2.difference_update(set1)\n",
    "print(set2)"
   ]
  },
  {
   "cell_type": "markdown",
   "id": "01f74a50-f01e-4521-805c-a80db84821a8",
   "metadata": {
    "jp-MarkdownHeadingCollapsed": true
   },
   "source": [
    "### Feature of Dictonary\n",
    "* unordered\n",
    "* changeable \n",
    "* indexed"
   ]
  },
  {
   "cell_type": "code",
   "execution_count": 169,
   "id": "e666f6f9-10d7-4cad-a1c4-9e549e8dea68",
   "metadata": {},
   "outputs": [
    {
     "name": "stdout",
     "output_type": "stream",
     "text": [
      "<class 'dict'>\n"
     ]
    }
   ],
   "source": [
    "# basic call\n",
    "dic={}\n",
    "print(type(dic))"
   ]
  },
  {
   "cell_type": "code",
   "execution_count": 171,
   "id": "acd170b1-5d9e-443b-848a-0b16a37e3fe6",
   "metadata": {},
   "outputs": [
    {
     "name": "stdout",
     "output_type": "stream",
     "text": [
      "<class 'dict'>\n",
      "Audi\n"
     ]
    }
   ],
   "source": [
    "# check type of dict\n",
    "my_dict={\"Car1\": \"Audi\", \"Car2\":\"BMW\",\"Car3\":\"Mercidies Benz\"}\n",
    "print(type(my_dict))\n",
    "print(my_dict['Car1'])"
   ]
  },
  {
   "cell_type": "code",
   "execution_count": 172,
   "id": "b7b57ced-91c9-4ec3-b303-315495351b28",
   "metadata": {},
   "outputs": [
    {
     "name": "stdout",
     "output_type": "stream",
     "text": [
      "Car1\n",
      "Car2\n",
      "Car3\n",
      "Audi\n",
      "BMW\n",
      "Mercidies Benz\n",
      "('Car1', 'Audi')\n",
      "('Car2', 'BMW')\n",
      "('Car3', 'Mercidies Benz')\n"
     ]
    }
   ],
   "source": [
    "# We can even loop throught the dictionaries keys and values \n",
    "for x in my_dict:\n",
    "    print(x)\n",
    "for x in my_dict.values():\n",
    "    print(x)\n",
    "for x in my_dict.items():\n",
    "    print(x)"
   ]
  },
  {
   "cell_type": "code",
   "execution_count": 173,
   "id": "1f2ad9dc-e071-4d3d-bdfc-a5341c6c8a69",
   "metadata": {},
   "outputs": [
    {
     "data": {
      "text/plain": [
       "{'Car1': 'MAruti', 'Car2': 'BMW', 'Car3': 'Mercidies Benz', 'car4': 'Audi 2.0'}"
      ]
     },
     "execution_count": 173,
     "metadata": {},
     "output_type": "execute_result"
    }
   ],
   "source": [
    "# Adding item in dict \n",
    "my_dict['car4']='Audi 2.0'\n",
    "my_dict['Car1']='MAruti'\n",
    "my_dict"
   ]
  },
  {
   "cell_type": "code",
   "execution_count": 174,
   "id": "a612c645-20b7-4f6c-a71a-82227f561680",
   "metadata": {},
   "outputs": [
    {
     "name": "stdout",
     "output_type": "stream",
     "text": [
      "{'car1': {'Mercedes': 1960}, 'car2': {'Audi': 1970}, 'car3': {'Ambassador': 1980}}\n"
     ]
    }
   ],
   "source": [
    "# nested dict\n",
    "car1_model={'Mercedes':1960}\n",
    "car2_model={'Audi':1970}\n",
    "car3_model={'Ambassador':1980}\n",
    "\n",
    "car_type={'car1':car1_model,'car2':car2_model,'car3':car3_model}\n",
    "print(car_type)"
   ]
  },
  {
   "cell_type": "code",
   "execution_count": 175,
   "id": "85a10477-682e-40ea-b4f7-2b7af3fd619c",
   "metadata": {},
   "outputs": [
    {
     "name": "stdout",
     "output_type": "stream",
     "text": [
      "1960\n"
     ]
    }
   ],
   "source": [
    "print(car_type['car1']['Mercedes'])"
   ]
  },
  {
   "cell_type": "markdown",
   "id": "1289fe9a-a7c2-45f8-b8ce-05868479a231",
   "metadata": {
    "jp-MarkdownHeadingCollapsed": true
   },
   "source": [
    "### Feature of tuples "
   ]
  },
  {
   "cell_type": "code",
   "execution_count": 176,
   "id": "c59edb32-3620-4cfd-95f7-08e13be52879",
   "metadata": {},
   "outputs": [
    {
     "data": {
      "text/plain": [
       "tuple"
      ]
     },
     "execution_count": 176,
     "metadata": {},
     "output_type": "execute_result"
    }
   ],
   "source": [
    "# create an empty Tuples\n",
    "my_tuple=tuple()\n",
    "type(my_tuple)"
   ]
  },
  {
   "cell_type": "code",
   "execution_count": 177,
   "id": "745a41d4-99bc-46a6-a2bd-c8f32f07330b",
   "metadata": {},
   "outputs": [],
   "source": [
    "my_tuple=('Hello','World')"
   ]
  },
  {
   "cell_type": "code",
   "execution_count": 178,
   "id": "5ed40f08-5ebd-41f2-9d78-19539ac2e45b",
   "metadata": {},
   "outputs": [
    {
     "name": "stdout",
     "output_type": "stream",
     "text": [
      "<class 'tuple'>\n",
      "('Hello', 'World')\n"
     ]
    }
   ],
   "source": [
    "# print tuple \n",
    "print(type(my_tuple))\n",
    "print(my_tuple)"
   ]
  },
  {
   "cell_type": "code",
   "execution_count": 179,
   "id": "82bb6bdd-f32f-4c87-b711-60959aac5ec9",
   "metadata": {},
   "outputs": [
    {
     "data": {
      "text/plain": [
       "1"
      ]
     },
     "execution_count": 179,
     "metadata": {},
     "output_type": "execute_result"
    }
   ],
   "source": [
    "# inbuilt function\n",
    "my_tuple.count('Hello')"
   ]
  },
  {
   "cell_type": "markdown",
   "id": "797c4309-27eb-4222-ba59-6788340cc4ba",
   "metadata": {},
   "source": [
    "## Lambda Function"
   ]
  },
  {
   "cell_type": "code",
   "execution_count": 10,
   "id": "6b5d404d-3457-4dab-88d2-e330c3c44215",
   "metadata": {},
   "outputs": [
    {
     "name": "stdout",
     "output_type": "stream",
     "text": [
      "<function <lambda> at 0x000001C94C0DF420>\n"
     ]
    }
   ],
   "source": [
    "# check the type\n",
    "f=lambda x,y:x+y\n",
    "print(f)"
   ]
  },
  {
   "cell_type": "code",
   "execution_count": 11,
   "id": "770d35be-2b6c-4f52-9160-bd453ac6a6b2",
   "metadata": {},
   "outputs": [
    {
     "data": {
      "text/plain": [
       "12"
      ]
     },
     "execution_count": 11,
     "metadata": {},
     "output_type": "execute_result"
    }
   ],
   "source": [
    "# simnples example\n",
    "multiply=lambda x,y:x*y\n",
    "multiply(3,4)"
   ]
  },
  {
   "cell_type": "code",
   "execution_count": 12,
   "id": "5c88836a-949e-495a-8781-01238eea325f",
   "metadata": {},
   "outputs": [
    {
     "data": {
      "text/plain": [
       "20"
      ]
     },
     "execution_count": 12,
     "metadata": {},
     "output_type": "execute_result"
    }
   ],
   "source": [
    "# return the length of a string\n",
    "string_length=lambda s:len(s)\n",
    "string_length(\"Abu Salaho As Samman\")"
   ]
  },
  {
   "cell_type": "code",
   "execution_count": 13,
   "id": "1c0adefb-ba93-445a-9f62-8cc079f3e9ed",
   "metadata": {},
   "outputs": [
    {
     "name": "stdout",
     "output_type": "stream",
     "text": [
      "[1, 4, 9, 16]\n"
     ]
    }
   ],
   "source": [
    "# convert a list of integers to their corresponding square values:\n",
    "numbers=[1,2,3,4]\n",
    "squares=list(map(lambda x:x**2,numbers))\n",
    "print(squares)"
   ]
  },
  {
   "cell_type": "code",
   "execution_count": 16,
   "id": "70d79100-b13c-4ed3-91b3-8c55ffef2f53",
   "metadata": {},
   "outputs": [
    {
     "data": {
      "text/plain": [
       "[1, 3, 5]"
      ]
     },
     "execution_count": 16,
     "metadata": {},
     "output_type": "execute_result"
    }
   ],
   "source": [
    "# filter out even numbers from a list:\n",
    "\n",
    "numbers=[1,2,3,4,5,6]\n",
    "list(filter(lambda x:x%2!=0,numbers))"
   ]
  },
  {
   "cell_type": "code",
   "execution_count": 17,
   "id": "0e6f8138-493a-44db-b8f1-a0ae799fecdb",
   "metadata": {},
   "outputs": [
    {
     "data": {
      "text/plain": [
       "['date', 'apple', 'banana', 'cherry', 'elderberry']"
      ]
     },
     "execution_count": 17,
     "metadata": {},
     "output_type": "execute_result"
    }
   ],
   "source": [
    "# sort the list according to string length \n",
    "fruits = ['apple', 'banana', 'cherry', 'date', 'elderberry']\n",
    "sorted(fruits,key=lambda x:len(x))"
   ]
  },
  {
   "cell_type": "code",
   "execution_count": 18,
   "id": "319a4d9b-9c65-4df5-9a4f-8f98d10a0e55",
   "metadata": {},
   "outputs": [
    {
     "data": {
      "text/plain": [
       "[{'name': 'Charlie', 'age': 22, 'occupation': 'Intern'},\n",
       " {'name': 'Alice', 'age': 25, 'occupation': 'Engineer'},\n",
       " {'name': 'Dave', 'age': 27, 'occupation': 'Designer'},\n",
       " {'name': 'Bob', 'age': 30, 'occupation': 'Manager'}]"
      ]
     },
     "execution_count": 18,
     "metadata": {},
     "output_type": "execute_result"
    }
   ],
   "source": [
    "# sort the dict according to age \n",
    "people = [\n",
    "    {'name': 'Alice', 'age': 25, 'occupation': 'Engineer'},\n",
    "    {'name': 'Bob', 'age': 30, 'occupation': 'Manager'},\n",
    "    {'name': 'Charlie', 'age': 22, 'occupation': 'Intern'},\n",
    "    {'name': 'Dave', 'age': 27, 'occupation': 'Designer'},\n",
    "]\n",
    "\n",
    "sorted(people,key=lambda x:(x['age']))"
   ]
  },
  {
   "cell_type": "code",
   "execution_count": 19,
   "id": "39df78f7-bcc4-4eb1-a5d7-512fe4b63984",
   "metadata": {},
   "outputs": [
    {
     "data": {
      "text/plain": [
       "'b'"
      ]
     },
     "execution_count": 19,
     "metadata": {},
     "output_type": "execute_result"
    }
   ],
   "source": [
    "# finding the maximum value in a dictionary\n",
    "data = {'a': 10, 'b': 20, 'c': 5, 'd': 15}\n",
    "max(data,key=lambda x:data[x])"
   ]
  },
  {
   "cell_type": "code",
   "execution_count": 21,
   "id": "c0f2ce19-3e7d-4baf-8207-b3842f087eb2",
   "metadata": {},
   "outputs": [
    {
     "name": "stdout",
     "output_type": "stream",
     "text": [
      "a ['apple', 'apple woodbanana']\n",
      "c ['cherry']\n",
      "d ['date']\n",
      "e ['elderberry']\n",
      "f ['fig']\n"
     ]
    }
   ],
   "source": [
    "# grouping a list of strings based on their first letter\n",
    "from itertools import groupby\n",
    "\n",
    "words = ['apple','apple wood' 'banana', 'cherry', 'date', 'elderberry', 'fig']\n",
    "\n",
    "groups = groupby(sorted(words), key=lambda x: x[0])\n",
    "\n",
    "for key, group in groups:\n",
    "    print(key, list(group))"
   ]
  },
  {
   "cell_type": "code",
   "execution_count": null,
   "id": "824702bf-dfd8-4405-b5bd-57c155e36d72",
   "metadata": {},
   "outputs": [],
   "source": []
  }
 ],
 "metadata": {
  "kernelspec": {
   "display_name": "Python 3 (ipykernel)",
   "language": "python",
   "name": "python3"
  },
  "language_info": {
   "codemirror_mode": {
    "name": "ipython",
    "version": 3
   },
   "file_extension": ".py",
   "mimetype": "text/x-python",
   "name": "python",
   "nbconvert_exporter": "python",
   "pygments_lexer": "ipython3",
   "version": "3.11.5"
  }
 },
 "nbformat": 4,
 "nbformat_minor": 5
}
